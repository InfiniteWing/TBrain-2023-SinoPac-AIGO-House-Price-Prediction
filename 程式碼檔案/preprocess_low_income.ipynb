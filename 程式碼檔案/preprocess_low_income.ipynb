{
 "cells": [
  {
   "cell_type": "code",
   "execution_count": 1,
   "id": "032d5851-c422-4765-95a7-94e7c1488bbd",
   "metadata": {
    "execution": {
     "iopub.execute_input": "2023-11-19T18:48:38.299937Z",
     "iopub.status.busy": "2023-11-19T18:48:38.299578Z",
     "iopub.status.idle": "2023-11-19T18:48:38.522487Z",
     "shell.execute_reply": "2023-11-19T18:48:38.521892Z"
    }
   },
   "outputs": [],
   "source": [
    "import glob\n",
    "import os\n",
    "import pandas as pd\n",
    "import numpy as np\n",
    "import pyproj\n",
    "from tqdm import tqdm\n",
    "from multiprocessing import Pool\n",
    "import warnings\n",
    "\n",
    "warnings.simplefilter(action='ignore', category=FutureWarning)"
   ]
  },
  {
   "cell_type": "code",
   "execution_count": 2,
   "id": "ec15e80c-ec65-41b1-a5ab-335711d7722b",
   "metadata": {
    "execution": {
     "iopub.execute_input": "2023-11-19T18:48:38.525348Z",
     "iopub.status.busy": "2023-11-19T18:48:38.525040Z",
     "iopub.status.idle": "2023-11-19T18:48:48.854710Z",
     "shell.execute_reply": "2023-11-19T18:48:48.853842Z"
    }
   },
   "outputs": [],
   "source": [
    "df = pd.read_excel('../外部資料集/1.1.2低收入戶戶數及人數按鄉鎮市區別分112Q2.ods', engine='odf', skiprows=[i for i in range(6)], sheet_name=0)\n",
    "#df = df.drop_duplicates(subset=['地址'], keep='first')\n",
    "#df = df.reset_index()\n"
   ]
  },
  {
   "cell_type": "code",
   "execution_count": 3,
   "id": "7496e670-dc16-461a-9a21-0c2a6b0f89be",
   "metadata": {
    "execution": {
     "iopub.execute_input": "2023-11-19T18:48:48.857580Z",
     "iopub.status.busy": "2023-11-19T18:48:48.857378Z",
     "iopub.status.idle": "2023-11-19T18:48:48.869086Z",
     "shell.execute_reply": "2023-11-19T18:48:48.868528Z"
    }
   },
   "outputs": [
    {
     "data": {
      "text/html": [
       "<div>\n",
       "<style scoped>\n",
       "    .dataframe tbody tr th:only-of-type {\n",
       "        vertical-align: middle;\n",
       "    }\n",
       "\n",
       "    .dataframe tbody tr th {\n",
       "        vertical-align: top;\n",
       "    }\n",
       "\n",
       "    .dataframe thead th {\n",
       "        text-align: right;\n",
       "    }\n",
       "</style>\n",
       "<table border=\"1\" class=\"dataframe\">\n",
       "  <thead>\n",
       "    <tr style=\"text-align: right;\">\n",
       "      <th></th>\n",
       "      <th>區域別</th>\n",
       "      <th>區域別_英文</th>\n",
       "      <th>總戶數</th>\n",
       "      <th>總戶數男</th>\n",
       "      <th>總戶數女</th>\n",
       "      <th>總人數</th>\n",
       "    </tr>\n",
       "  </thead>\n",
       "  <tbody>\n",
       "    <tr>\n",
       "      <th>0</th>\n",
       "      <td>總計</td>\n",
       "      <td>Grand-Total</td>\n",
       "      <td>142607.0</td>\n",
       "      <td>88110.0</td>\n",
       "      <td>54497.0</td>\n",
       "      <td>276649.0</td>\n",
       "    </tr>\n",
       "    <tr>\n",
       "      <th>1</th>\n",
       "      <td>新北市</td>\n",
       "      <td>New Taipei City</td>\n",
       "      <td>17242.0</td>\n",
       "      <td>10538.0</td>\n",
       "      <td>6704.0</td>\n",
       "      <td>32550.0</td>\n",
       "    </tr>\n",
       "    <tr>\n",
       "      <th>2</th>\n",
       "      <td>板橋區</td>\n",
       "      <td>Banciao District</td>\n",
       "      <td>1208.0</td>\n",
       "      <td>753.0</td>\n",
       "      <td>455.0</td>\n",
       "      <td>2021.0</td>\n",
       "    </tr>\n",
       "    <tr>\n",
       "      <th>3</th>\n",
       "      <td>三重區</td>\n",
       "      <td>Sanchong District</td>\n",
       "      <td>2185.0</td>\n",
       "      <td>1368.0</td>\n",
       "      <td>817.0</td>\n",
       "      <td>3724.0</td>\n",
       "    </tr>\n",
       "    <tr>\n",
       "      <th>4</th>\n",
       "      <td>中和區</td>\n",
       "      <td>Jhonghe District</td>\n",
       "      <td>1628.0</td>\n",
       "      <td>966.0</td>\n",
       "      <td>662.0</td>\n",
       "      <td>2923.0</td>\n",
       "    </tr>\n",
       "    <tr>\n",
       "      <th>...</th>\n",
       "      <td>...</td>\n",
       "      <td>...</td>\n",
       "      <td>...</td>\n",
       "      <td>...</td>\n",
       "      <td>...</td>\n",
       "      <td>...</td>\n",
       "    </tr>\n",
       "    <tr>\n",
       "      <th>388</th>\n",
       "      <td>北竿鄉</td>\n",
       "      <td>Beigan Township</td>\n",
       "      <td>14.0</td>\n",
       "      <td>12.0</td>\n",
       "      <td>2.0</td>\n",
       "      <td>26.0</td>\n",
       "    </tr>\n",
       "    <tr>\n",
       "      <th>389</th>\n",
       "      <td>莒光鄉</td>\n",
       "      <td>Jyuguang Township</td>\n",
       "      <td>5.0</td>\n",
       "      <td>3.0</td>\n",
       "      <td>2.0</td>\n",
       "      <td>7.0</td>\n",
       "    </tr>\n",
       "    <tr>\n",
       "      <th>390</th>\n",
       "      <td>東引鄉</td>\n",
       "      <td>Dongyin Township</td>\n",
       "      <td>3.0</td>\n",
       "      <td>2.0</td>\n",
       "      <td>1.0</td>\n",
       "      <td>9.0</td>\n",
       "    </tr>\n",
       "    <tr>\n",
       "      <th>391</th>\n",
       "      <td>NaN</td>\n",
       "      <td>NaN</td>\n",
       "      <td>NaN</td>\n",
       "      <td>NaN</td>\n",
       "      <td>NaN</td>\n",
       "      <td>NaN</td>\n",
       "    </tr>\n",
       "    <tr>\n",
       "      <th>392</th>\n",
       "      <td>更新日期:2023/8/31</td>\n",
       "      <td>NaN</td>\n",
       "      <td>NaN</td>\n",
       "      <td>NaN</td>\n",
       "      <td>NaN</td>\n",
       "      <td>NaN</td>\n",
       "    </tr>\n",
       "  </tbody>\n",
       "</table>\n",
       "<p>393 rows × 6 columns</p>\n",
       "</div>"
      ],
      "text/plain": [
       "                區域別              區域別_英文       總戶數     總戶數男     總戶數女       總人數\n",
       "0                總計         Grand-Total  142607.0  88110.0  54497.0  276649.0\n",
       "1               新北市     New Taipei City   17242.0  10538.0   6704.0   32550.0\n",
       "2               板橋區    Banciao District    1208.0    753.0    455.0    2021.0\n",
       "3               三重區   Sanchong District    2185.0   1368.0    817.0    3724.0\n",
       "4               中和區    Jhonghe District    1628.0    966.0    662.0    2923.0\n",
       "..              ...                 ...       ...      ...      ...       ...\n",
       "388             北竿鄉    Beigan Township       14.0     12.0      2.0      26.0\n",
       "389             莒光鄉  Jyuguang Township        5.0      3.0      2.0       7.0\n",
       "390             東引鄉   Dongyin Township        3.0      2.0      1.0       9.0\n",
       "391             NaN                 NaN       NaN      NaN      NaN       NaN\n",
       "392  更新日期:2023/8/31                 NaN       NaN      NaN      NaN       NaN\n",
       "\n",
       "[393 rows x 6 columns]"
      ]
     },
     "execution_count": 3,
     "metadata": {},
     "output_type": "execute_result"
    }
   ],
   "source": [
    "use_cols = ['區域別', '區域別_英文', '總戶數', '總戶數男', '總戶數女', '總人數']\n",
    "df.columns = use_cols + df.columns.tolist()[6:]\n",
    "df = df[use_cols].copy()\n",
    "df"
   ]
  },
  {
   "cell_type": "code",
   "execution_count": 4,
   "id": "0770ef05-fd9a-4cb7-9ee1-25a7d7f14dd5",
   "metadata": {
    "execution": {
     "iopub.execute_input": "2023-11-19T18:48:48.871109Z",
     "iopub.status.busy": "2023-11-19T18:48:48.870500Z",
     "iopub.status.idle": "2023-11-19T18:48:48.896229Z",
     "shell.execute_reply": "2023-11-19T18:48:48.895507Z"
    }
   },
   "outputs": [
    {
     "name": "stdout",
     "output_type": "stream",
     "text": [
      "skiping 東引鄉\n",
      "skiping 更新日期:2023/8/31\n"
     ]
    },
    {
     "data": {
      "text/html": [
       "<div>\n",
       "<style scoped>\n",
       "    .dataframe tbody tr th:only-of-type {\n",
       "        vertical-align: middle;\n",
       "    }\n",
       "\n",
       "    .dataframe tbody tr th {\n",
       "        vertical-align: top;\n",
       "    }\n",
       "\n",
       "    .dataframe thead th {\n",
       "        text-align: right;\n",
       "    }\n",
       "</style>\n",
       "<table border=\"1\" class=\"dataframe\">\n",
       "  <thead>\n",
       "    <tr style=\"text-align: right;\">\n",
       "      <th></th>\n",
       "      <th>縣市</th>\n",
       "      <th>鄉鎮市區</th>\n",
       "      <th>低收入戶戶數</th>\n",
       "      <th>低收入戶人口數</th>\n",
       "    </tr>\n",
       "  </thead>\n",
       "  <tbody>\n",
       "    <tr>\n",
       "      <th>0</th>\n",
       "      <td>新北市</td>\n",
       "      <td>板橋區</td>\n",
       "      <td>1208</td>\n",
       "      <td>2021</td>\n",
       "    </tr>\n",
       "    <tr>\n",
       "      <th>1</th>\n",
       "      <td>新北市</td>\n",
       "      <td>三重區</td>\n",
       "      <td>2185</td>\n",
       "      <td>3724</td>\n",
       "    </tr>\n",
       "    <tr>\n",
       "      <th>2</th>\n",
       "      <td>新北市</td>\n",
       "      <td>中和區</td>\n",
       "      <td>1628</td>\n",
       "      <td>2923</td>\n",
       "    </tr>\n",
       "    <tr>\n",
       "      <th>3</th>\n",
       "      <td>新北市</td>\n",
       "      <td>永和區</td>\n",
       "      <td>877</td>\n",
       "      <td>1503</td>\n",
       "    </tr>\n",
       "    <tr>\n",
       "      <th>4</th>\n",
       "      <td>新北市</td>\n",
       "      <td>新莊區</td>\n",
       "      <td>1387</td>\n",
       "      <td>2887</td>\n",
       "    </tr>\n",
       "    <tr>\n",
       "      <th>...</th>\n",
       "      <td>...</td>\n",
       "      <td>...</td>\n",
       "      <td>...</td>\n",
       "      <td>...</td>\n",
       "    </tr>\n",
       "    <tr>\n",
       "      <th>363</th>\n",
       "      <td>金門縣</td>\n",
       "      <td>烏坵鄉</td>\n",
       "      <td>1</td>\n",
       "      <td>2</td>\n",
       "    </tr>\n",
       "    <tr>\n",
       "      <th>364</th>\n",
       "      <td>連江縣</td>\n",
       "      <td>南竿鄉</td>\n",
       "      <td>30</td>\n",
       "      <td>48</td>\n",
       "    </tr>\n",
       "    <tr>\n",
       "      <th>365</th>\n",
       "      <td>連江縣</td>\n",
       "      <td>北竿鄉</td>\n",
       "      <td>14</td>\n",
       "      <td>26</td>\n",
       "    </tr>\n",
       "    <tr>\n",
       "      <th>366</th>\n",
       "      <td>連江縣</td>\n",
       "      <td>莒光鄉</td>\n",
       "      <td>5</td>\n",
       "      <td>7</td>\n",
       "    </tr>\n",
       "    <tr>\n",
       "      <th>367</th>\n",
       "      <td>連江縣</td>\n",
       "      <td>東引鄉</td>\n",
       "      <td>3</td>\n",
       "      <td>9</td>\n",
       "    </tr>\n",
       "  </tbody>\n",
       "</table>\n",
       "<p>368 rows × 4 columns</p>\n",
       "</div>"
      ],
      "text/plain": [
       "      縣市 鄉鎮市區  低收入戶戶數  低收入戶人口數\n",
       "0    新北市  板橋區    1208     2021\n",
       "1    新北市  三重區    2185     3724\n",
       "2    新北市  中和區    1628     2923\n",
       "3    新北市  永和區     877     1503\n",
       "4    新北市  新莊區    1387     2887\n",
       "..   ...  ...     ...      ...\n",
       "363  金門縣  烏坵鄉       1        2\n",
       "364  連江縣  南竿鄉      30       48\n",
       "365  連江縣  北竿鄉      14       26\n",
       "366  連江縣  莒光鄉       5        7\n",
       "367  連江縣  東引鄉       3        9\n",
       "\n",
       "[368 rows x 4 columns]"
      ]
     },
     "execution_count": 4,
     "metadata": {},
     "output_type": "execute_result"
    }
   ],
   "source": [
    "all_counties = ['新北市',\n",
    " '台北市',\n",
    " '桃園市',\n",
    " '台中市',\n",
    " '台南市',\n",
    " '高雄市',\n",
    " '宜蘭縣',\n",
    " '新竹縣',\n",
    " '苗栗縣',\n",
    " '彰化縣',\n",
    " '南投縣',\n",
    " '雲林縣',\n",
    " '嘉義縣',\n",
    " '屏東縣',\n",
    " '臺東縣',\n",
    " '花蓮縣',\n",
    " '澎湖縣',\n",
    " '基隆市',\n",
    " '新竹市',\n",
    " '嘉義市',\n",
    " '金門縣',\n",
    " '連江縣']\n",
    "\n",
    "infos = []\n",
    "city1 = ''\n",
    "for i, row in df.iterrows():\n",
    "    try:\n",
    "        name = row['區域別'].strip()\n",
    "        low_income_home_cnt = int(row['總戶數'])\n",
    "        low_income_people_cnt = int(row['總人數'])\n",
    "        \n",
    "    except:\n",
    "        print('skiping', name)\n",
    "        continue\n",
    "    if name.endswith('市') or name.endswith('縣'):\n",
    "        name = name.strip().replace(' ', '').replace('臺北市', '台北市').replace('臺中市', '台中市').replace('臺南市', '台南市')\n",
    "        if name in all_counties:\n",
    "            city1 = name\n",
    "            continue\n",
    "    if city1 == '':\n",
    "        continue\n",
    "    infos.append({\n",
    "        '縣市': city1,\n",
    "        '鄉鎮市區': name,\n",
    "        '低收入戶戶數': low_income_home_cnt,\n",
    "        '低收入戶人口數': low_income_people_cnt,\n",
    "    })\n",
    "df_low_income = pd.DataFrame(infos)\n",
    "df_low_income"
   ]
  },
  {
   "cell_type": "code",
   "execution_count": 5,
   "id": "3afe3ad2-7784-4b7a-bd1d-5ee708081d10",
   "metadata": {
    "execution": {
     "iopub.execute_input": "2023-11-19T18:48:48.898381Z",
     "iopub.status.busy": "2023-11-19T18:48:48.898188Z",
     "iopub.status.idle": "2023-11-19T18:48:48.901915Z",
     "shell.execute_reply": "2023-11-19T18:48:48.901236Z"
    }
   },
   "outputs": [],
   "source": [
    "use_counties = ['台北市', '高雄市', '新北市', '桃園市', '台中市', '台南市', '苗栗縣', '新竹縣', '基隆市',\n",
    "       '屏東縣', '新竹市', '宜蘭縣', '花蓮縣', '嘉義市', '金門縣', '嘉義縣', '彰化縣', '雲林縣']\n",
    "df_low_income = df_low_income[df_low_income['縣市'].isin(use_counties)].reset_index(drop=True)"
   ]
  },
  {
   "cell_type": "code",
   "execution_count": 6,
   "id": "a52fc928-510c-4d1b-a2e8-59241229e1d1",
   "metadata": {
    "execution": {
     "iopub.execute_input": "2023-11-19T18:48:48.903880Z",
     "iopub.status.busy": "2023-11-19T18:48:48.903689Z",
     "iopub.status.idle": "2023-11-19T18:48:48.908193Z",
     "shell.execute_reply": "2023-11-19T18:48:48.907499Z"
    }
   },
   "outputs": [
    {
     "data": {
      "text/plain": [
       "set()"
      ]
     },
     "execution_count": 6,
     "metadata": {},
     "output_type": "execute_result"
    }
   ],
   "source": [
    "set(use_counties) - set(df_low_income['縣市'].unique().tolist())"
   ]
  },
  {
   "cell_type": "code",
   "execution_count": 7,
   "id": "d2a532ee-b2d6-412b-a019-1c1cd12cfa60",
   "metadata": {
    "execution": {
     "iopub.execute_input": "2023-11-19T18:48:48.910208Z",
     "iopub.status.busy": "2023-11-19T18:48:48.910018Z",
     "iopub.status.idle": "2023-11-19T18:48:48.913744Z",
     "shell.execute_reply": "2023-11-19T18:48:48.913194Z"
    }
   },
   "outputs": [],
   "source": [
    "df_low_income = df_low_income.drop_duplicates(subset=['縣市', '鄉鎮市區'], keep='first').reset_index(drop=True)"
   ]
  },
  {
   "cell_type": "code",
   "execution_count": 8,
   "id": "c924c050-6bd9-4413-bd9b-548b787039f8",
   "metadata": {
    "execution": {
     "iopub.execute_input": "2023-11-19T18:48:48.915860Z",
     "iopub.status.busy": "2023-11-19T18:48:48.915549Z",
     "iopub.status.idle": "2023-11-19T18:48:48.926037Z",
     "shell.execute_reply": "2023-11-19T18:48:48.925419Z"
    }
   },
   "outputs": [],
   "source": [
    "df_low_income.to_csv('../外部資料集/low_income_info.csv', index=False, encoding='utf-8')"
   ]
  }
 ],
 "metadata": {
  "kernelspec": {
   "display_name": "Python 3 (ipykernel)",
   "language": "python",
   "name": "python3"
  },
  "language_info": {
   "codemirror_mode": {
    "name": "ipython",
    "version": 3
   },
   "file_extension": ".py",
   "mimetype": "text/x-python",
   "name": "python",
   "nbconvert_exporter": "python",
   "pygments_lexer": "ipython3",
   "version": "3.11.5"
  }
 },
 "nbformat": 4,
 "nbformat_minor": 5
}
