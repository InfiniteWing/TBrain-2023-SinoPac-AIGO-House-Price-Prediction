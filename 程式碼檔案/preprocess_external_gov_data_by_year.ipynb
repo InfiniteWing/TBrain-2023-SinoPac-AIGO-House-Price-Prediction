{
 "cells": [
  {
   "cell_type": "code",
   "execution_count": 1,
   "id": "9cfc59a1-2531-4501-8de0-b99fbffee0f3",
   "metadata": {
    "execution": {
     "iopub.execute_input": "2023-11-19T18:47:32.550912Z",
     "iopub.status.busy": "2023-11-19T18:47:32.550570Z",
     "iopub.status.idle": "2023-11-19T18:47:32.980245Z",
     "shell.execute_reply": "2023-11-19T18:47:32.979680Z"
    }
   },
   "outputs": [],
   "source": [
    "import glob\n",
    "import os\n",
    "import pandas as pd\n",
    "import numpy as np\n",
    "from sklearn.preprocessing import StandardScaler\n",
    "import csv\n",
    "\n",
    "pd.options.display.float_format = '{:.5f}'.format"
   ]
  },
  {
   "cell_type": "code",
   "execution_count": 2,
   "id": "cf721134-b38d-4498-a513-4f688e691df5",
   "metadata": {
    "execution": {
     "iopub.execute_input": "2023-11-19T18:47:32.982657Z",
     "iopub.status.busy": "2023-11-19T18:47:32.982417Z",
     "iopub.status.idle": "2023-11-19T18:47:44.515218Z",
     "shell.execute_reply": "2023-11-19T18:47:44.514333Z"
    }
   },
   "outputs": [
    {
     "name": "stderr",
     "output_type": "stream",
     "text": [
      "/tmp/ipykernel_21033/16003613.py:5: DtypeWarning: Columns (5,6) have mixed types. Specify dtype option on import or set low_memory=False.\n",
      "  df = pd.read_csv(pathto_file, on_bad_lines='skip', skiprows=[1])\n",
      "/tmp/ipykernel_21033/16003613.py:5: DtypeWarning: Columns (5,6) have mixed types. Specify dtype option on import or set low_memory=False.\n",
      "  df = pd.read_csv(pathto_file, on_bad_lines='skip', skiprows=[1])\n"
     ]
    }
   ],
   "source": [
    "use_counties = ['台北市', '高雄市', '新北市', '桃園市', '台中市', '台南市', '苗栗縣', '新竹縣', '基隆市',\n",
    "       '屏東縣', '新竹市', '宜蘭縣', '花蓮縣', '嘉義市', '金門縣', '嘉義縣', '彰化縣', '雲林縣']\n",
    "dfs = []\n",
    "for pathto_file in glob.glob('../外部資料集/實價登錄/*/*_a.csv'):\n",
    "    df = pd.read_csv(pathto_file, on_bad_lines='skip', skiprows=[1])\n",
    "    df['單價元平方公尺'].fillna(0)\n",
    "    df['土地位置建物門牌'] = df['土地位置建物門牌'].apply(lambda x: (x.replace('臺北市', '台北市').replace('臺中市', '台中市').replace('臺南市', '台南市')))\n",
    "    county = df['土地位置建物門牌'].apply(lambda x: (x+'123')[:3]).value_counts().index[0]\n",
    "    if county not in use_counties:\n",
    "        continue\n",
    "    df['縣市'] = county\n",
    "    avg_price = df.query('單價元平方公尺 > 1000')['單價元平方公尺'].median()\n",
    "    avg_price = avg_price*0.1\n",
    "    df = df.query(f'單價元平方公尺 > {avg_price}')\n",
    "    df['source'] = pathto_file.split('/')[-2]\n",
    "    dfs.append(df)\n",
    "df = pd.concat(dfs).reset_index(drop=True)"
   ]
  },
  {
   "cell_type": "code",
   "execution_count": 3,
   "id": "a3091aea-a211-4926-9cd0-7358efca1e64",
   "metadata": {
    "execution": {
     "iopub.execute_input": "2023-11-19T18:47:44.517634Z",
     "iopub.status.busy": "2023-11-19T18:47:44.517483Z",
     "iopub.status.idle": "2023-11-19T18:47:44.913880Z",
     "shell.execute_reply": "2023-11-19T18:47:44.913078Z"
    }
   },
   "outputs": [
    {
     "name": "stdout",
     "output_type": "stream",
     "text": [
      "(1000242, 35)\n",
      "(740604, 35)\n"
     ]
    }
   ],
   "source": [
    "use_sources = ['2021Q1', '2021Q2', '2021Q3', '2021Q4', '2022Q1', '2022Q2', '2022Q3', '2022Q4', '2023Q1', '2023Q2', '2023Q3']\n",
    "\n",
    "print(df.shape)\n",
    "df = df[df['source'].isin(use_sources)].copy().reset_index(drop=True)\n",
    "print(df.shape)"
   ]
  },
  {
   "cell_type": "code",
   "execution_count": 4,
   "id": "906b99f2-b2bb-423b-9578-083f69818e5e",
   "metadata": {
    "execution": {
     "iopub.execute_input": "2023-11-19T18:47:44.917120Z",
     "iopub.status.busy": "2023-11-19T18:47:44.916856Z",
     "iopub.status.idle": "2023-11-19T18:47:44.938299Z",
     "shell.execute_reply": "2023-11-19T18:47:44.937198Z"
    }
   },
   "outputs": [
    {
     "data": {
      "text/plain": [
       "(18600, 35)"
      ]
     },
     "execution_count": 4,
     "metadata": {},
     "output_type": "execute_result"
    }
   ],
   "source": [
    "df.query('交易年月日 >= 1091000 and 交易年月日 <= 1091231').shape"
   ]
  },
  {
   "cell_type": "code",
   "execution_count": 5,
   "id": "d41aff90-7e06-40f0-b6ed-e54a3163eea7",
   "metadata": {
    "execution": {
     "iopub.execute_input": "2023-11-19T18:47:44.940920Z",
     "iopub.status.busy": "2023-11-19T18:47:44.940568Z",
     "iopub.status.idle": "2023-11-19T18:47:44.953768Z",
     "shell.execute_reply": "2023-11-19T18:47:44.952936Z"
    }
   },
   "outputs": [
    {
     "data": {
      "text/plain": [
       "(17898, 35)"
      ]
     },
     "execution_count": 5,
     "metadata": {},
     "output_type": "execute_result"
    }
   ],
   "source": [
    "df.query('交易年月日 >= 1090700 and 交易年月日 <= 1090931').shape"
   ]
  },
  {
   "cell_type": "code",
   "execution_count": 6,
   "id": "943e2e3e-1f80-4186-ae02-806d04131fa5",
   "metadata": {
    "execution": {
     "iopub.execute_input": "2023-11-19T18:47:44.955553Z",
     "iopub.status.busy": "2023-11-19T18:47:44.955384Z",
     "iopub.status.idle": "2023-11-19T18:47:44.981449Z",
     "shell.execute_reply": "2023-11-19T18:47:44.980521Z"
    }
   },
   "outputs": [
    {
     "data": {
      "text/plain": [
       "set()"
      ]
     },
     "execution_count": 6,
     "metadata": {},
     "output_type": "execute_result"
    }
   ],
   "source": [
    "set(use_counties) - set(df['縣市'].unique().tolist())"
   ]
  },
  {
   "cell_type": "code",
   "execution_count": 7,
   "id": "b857670c-94c7-4451-8ca4-fd4712edf8e8",
   "metadata": {
    "execution": {
     "iopub.execute_input": "2023-11-19T18:47:44.983736Z",
     "iopub.status.busy": "2023-11-19T18:47:44.983546Z",
     "iopub.status.idle": "2023-11-19T18:47:45.016547Z",
     "shell.execute_reply": "2023-11-19T18:47:45.015934Z"
    }
   },
   "outputs": [
    {
     "data": {
      "text/plain": [
       "縣市\n",
       "新北市    125504\n",
       "台中市    113971\n",
       "桃園市    103404\n",
       "高雄市     93255\n",
       "台南市     68294\n",
       "台北市     49944\n",
       "彰化縣     27836\n",
       "新竹縣     27028\n",
       "屏東縣     22506\n",
       "苗栗縣     17610\n",
       "宜蘭縣     17413\n",
       "新竹市     17374\n",
       "雲林縣     14191\n",
       "基隆市     11886\n",
       "嘉義縣     11608\n",
       "花蓮縣      8729\n",
       "嘉義市      7907\n",
       "金門縣      2144\n",
       "Name: count, dtype: int64"
      ]
     },
     "execution_count": 7,
     "metadata": {},
     "output_type": "execute_result"
    }
   ],
   "source": [
    "df['縣市'].value_counts()"
   ]
  },
  {
   "cell_type": "code",
   "execution_count": 8,
   "id": "9736849c-911b-4b9f-851d-c040a916d09c",
   "metadata": {
    "execution": {
     "iopub.execute_input": "2023-11-19T18:47:45.018286Z",
     "iopub.status.busy": "2023-11-19T18:47:45.018005Z",
     "iopub.status.idle": "2023-11-19T18:47:45.054611Z",
     "shell.execute_reply": "2023-11-19T18:47:45.054007Z"
    }
   },
   "outputs": [
    {
     "data": {
      "text/plain": [
       "鄉鎮市區\n",
       "七堵區    58568.32041\n",
       "七股區    32477.03030\n",
       "三地門鄉   14841.45455\n",
       "三峽區    84851.30799\n",
       "三星鄉    44033.19048\n",
       "           ...    \n",
       "鼓山區    86422.33455\n",
       "龍井區    54763.70485\n",
       "龍崎區    19526.83333\n",
       "龍潭區    51587.97717\n",
       "龜山區    79077.76022\n",
       "Name: 單價元平方公尺, Length: 318, dtype: float64"
      ]
     },
     "execution_count": 8,
     "metadata": {},
     "output_type": "execute_result"
    }
   ],
   "source": [
    "df.groupby('鄉鎮市區')['單價元平方公尺'].mean()"
   ]
  },
  {
   "cell_type": "code",
   "execution_count": 9,
   "id": "3b9b7fa7-195d-4b4d-97f3-4c5815b3b2cc",
   "metadata": {
    "execution": {
     "iopub.execute_input": "2023-11-19T18:47:45.056496Z",
     "iopub.status.busy": "2023-11-19T18:47:45.056253Z",
     "iopub.status.idle": "2023-11-19T18:47:46.488695Z",
     "shell.execute_reply": "2023-11-19T18:47:46.487709Z"
    }
   },
   "outputs": [
    {
     "name": "stdout",
     "output_type": "stream",
     "text": [
      "count   597111.00000\n",
      "mean        -0.00000\n",
      "std          1.00000\n",
      "min         -2.55662\n",
      "25%         -0.61966\n",
      "50%         -0.19512\n",
      "75%          0.39355\n",
      "max         11.26292\n",
      "Name: 主建物面積, dtype: float64\n",
      "count   597111.00000\n",
      "mean         0.00000\n",
      "std          1.00000\n",
      "min         -1.70557\n",
      "25%         -0.39962\n",
      "50%          0.13465\n",
      "75%          0.59945\n",
      "max          5.29039\n",
      "Name: 陽台面積, dtype: float64\n",
      "count   597111.00000\n",
      "mean         0.00000\n",
      "std          1.00000\n",
      "min         -0.59497\n",
      "25%         -0.59497\n",
      "50%         -0.59497\n",
      "75%          0.53850\n",
      "max         21.28760\n",
      "Name: 附屬建物面積, dtype: float64\n",
      "count   597111.00000\n",
      "mean         0.00000\n",
      "std          1.00000\n",
      "min         -0.71671\n",
      "25%         -0.71671\n",
      "50%         -0.71671\n",
      "75%          1.07916\n",
      "max         15.22237\n",
      "Name: 車位面積, dtype: float64\n",
      "count   597111.00000\n",
      "mean        -0.00000\n",
      "std          1.00000\n",
      "min         -3.11599\n",
      "25%         -0.59409\n",
      "50%         -0.07020\n",
      "75%          0.46983\n",
      "max         17.28928\n",
      "Name: 建物面積, dtype: float64\n",
      "count   597111.00000\n",
      "mean        -0.00000\n",
      "std          1.00000\n",
      "min         -1.31096\n",
      "25%         -0.47045\n",
      "50%         -0.23771\n",
      "75%          0.23783\n",
      "max         53.06896\n",
      "Name: 土地面積, dtype: float64\n"
     ]
    }
   ],
   "source": [
    "df = df.query('主建物面積 >= 2').copy().reset_index(drop=True)\n",
    "df = df.query('主建物面積 <= 2000').copy().reset_index(drop=True)\n",
    "df = df.query('陽台面積 <= 100').copy().reset_index(drop=True)\n",
    "df = df.query('單價元平方公尺 >= 1000')\n",
    "df = df.query('單價元平方公尺 <= 2000000').reset_index(drop=True)\n",
    "\n",
    "col = '主建物面積'\n",
    "scaler = StandardScaler()\n",
    "scaler.fit(df[col].apply(np.sqrt).to_numpy().reshape(-1, 1))\n",
    "df[col] = scaler.transform(df[col].apply(np.sqrt).to_numpy().reshape(-1, 1))\n",
    "print(df[col].describe())\n",
    "\n",
    "col = '陽台面積'\n",
    "scaler = StandardScaler()\n",
    "scaler.fit(df[col].apply(np.sqrt).to_numpy().reshape(-1, 1))\n",
    "df[col] = scaler.transform(df[col].apply(np.sqrt).to_numpy().reshape(-1, 1))\n",
    "print(df[col].describe())\n",
    "\n",
    "col = '附屬建物面積'\n",
    "scaler = StandardScaler()\n",
    "scaler.fit(df[col].apply(np.sqrt).to_numpy().reshape(-1, 1))\n",
    "df[col] = scaler.transform(df[col].apply(np.sqrt).to_numpy().reshape(-1, 1))\n",
    "print(df[col].describe())\n",
    "\n",
    "col = '車位面積'\n",
    "df[col] = df['車位移轉總面積平方公尺'].values\n",
    "scaler = StandardScaler()\n",
    "scaler.fit(df[col].apply(np.sqrt).to_numpy().reshape(-1, 1))\n",
    "df[col] = scaler.transform(df[col].apply(np.sqrt).to_numpy().reshape(-1, 1))\n",
    "print(df[col].describe())\n",
    "\n",
    "col = '建物面積'\n",
    "df[col] = df['建物移轉總面積平方公尺'].values\n",
    "scaler = StandardScaler()\n",
    "scaler.fit(df[col].apply(np.sqrt).to_numpy().reshape(-1, 1))\n",
    "df[col] = scaler.transform(df[col].apply(np.sqrt).to_numpy().reshape(-1, 1))\n",
    "print(df[col].describe())\n",
    "\n",
    "col = '土地面積'\n",
    "df[col] = df['土地移轉總面積平方公尺'].values\n",
    "scaler = StandardScaler()\n",
    "scaler.fit(df[col].apply(np.sqrt).to_numpy().reshape(-1, 1))\n",
    "df[col] = scaler.transform(df[col].apply(np.sqrt).to_numpy().reshape(-1, 1))\n",
    "print(df[col].describe())\n",
    "\n",
    "# col = '單價'\n",
    "# df[col] = df['單價元平方公尺'].values\n",
    "# scaler = StandardScaler()\n",
    "# scaler.fit(df[col].apply(np.sqrt).to_numpy().reshape(-1, 1))\n",
    "# df[col] = scaler.transform(df[col].apply(np.sqrt).to_numpy().reshape(-1, 1)) + 2\n",
    "# print(df[col].describe())"
   ]
  },
  {
   "cell_type": "code",
   "execution_count": 10,
   "id": "fe5ae06b-04ed-4ef7-83d1-3d65b5e9bdb0",
   "metadata": {
    "execution": {
     "iopub.execute_input": "2023-11-19T18:47:46.491576Z",
     "iopub.status.busy": "2023-11-19T18:47:46.491335Z",
     "iopub.status.idle": "2023-11-19T18:47:46.496393Z",
     "shell.execute_reply": "2023-11-19T18:47:46.495654Z"
    }
   },
   "outputs": [],
   "source": [
    "def get_year_from_str(x):\n",
    "    try:\n",
    "        x = int(x)\n",
    "        if x < 1000101:\n",
    "            return int(str(x)[0:2])\n",
    "        else:\n",
    "            return int(str(x)[0:3])\n",
    "    except:\n",
    "        return -1\n",
    "\n",
    "def get_month_from_str(x):\n",
    "    try:\n",
    "        x = int(x)\n",
    "        if x < 1000101:\n",
    "            return int(str(x)[2:4])\n",
    "        else:\n",
    "            return int(str(x)[3:5])\n",
    "    except:\n",
    "        return -1"
   ]
  },
  {
   "cell_type": "code",
   "execution_count": 11,
   "id": "0339fcf6-608e-46e9-be9a-1fdbda0ae49a",
   "metadata": {
    "execution": {
     "iopub.execute_input": "2023-11-19T18:47:46.498521Z",
     "iopub.status.busy": "2023-11-19T18:47:46.497922Z",
     "iopub.status.idle": "2023-11-19T18:47:46.978437Z",
     "shell.execute_reply": "2023-11-19T18:47:46.977201Z"
    }
   },
   "outputs": [],
   "source": [
    "df['Trade_Year'] = df['交易年月日'].apply(get_year_from_str).astype(int) + 1911\n",
    "df['Trade_Month'] = df['交易年月日'].apply(get_month_from_str).astype(int)\n",
    "df['Trade_YearMonth'] = df['Trade_Year']*100 + df['Trade_Month']"
   ]
  },
  {
   "cell_type": "code",
   "execution_count": 12,
   "id": "ef97304f-b6b5-4029-a49a-01a302d55b00",
   "metadata": {
    "execution": {
     "iopub.execute_input": "2023-11-19T18:47:46.982564Z",
     "iopub.status.busy": "2023-11-19T18:47:46.981849Z",
     "iopub.status.idle": "2023-11-19T18:47:47.373505Z",
     "shell.execute_reply": "2023-11-19T18:47:47.372774Z"
    }
   },
   "outputs": [],
   "source": [
    "df = df.query('Trade_Month > 0').copy().reset_index(drop=True)"
   ]
  },
  {
   "cell_type": "code",
   "execution_count": 13,
   "id": "f89a6f37-ad2d-438e-bdd4-f217688933d9",
   "metadata": {
    "execution": {
     "iopub.execute_input": "2023-11-19T18:47:47.375809Z",
     "iopub.status.busy": "2023-11-19T18:47:47.375626Z",
     "iopub.status.idle": "2023-11-19T18:47:47.870752Z",
     "shell.execute_reply": "2023-11-19T18:47:47.869787Z"
    }
   },
   "outputs": [
    {
     "data": {
      "text/plain": [
       "Trade_Q\n",
       "1    159620\n",
       "2    156999\n",
       "3    151921\n",
       "0    128566\n",
       "Name: count, dtype: int64"
      ]
     },
     "execution_count": 13,
     "metadata": {},
     "output_type": "execute_result"
    }
   ],
   "source": [
    "df['Trade_Q'] = df['Trade_Month'].apply(lambda x : (x-1) // 3)\n",
    "df = df.query('Trade_Q >= 0 and Trade_Q <= 3').copy().reset_index(drop=True)\n",
    "df['Trade_Q'].value_counts()"
   ]
  },
  {
   "cell_type": "code",
   "execution_count": 14,
   "id": "f9d7ee48-f394-44be-afcc-f97259dfecec",
   "metadata": {
    "execution": {
     "iopub.execute_input": "2023-11-19T18:47:47.874337Z",
     "iopub.status.busy": "2023-11-19T18:47:47.873508Z",
     "iopub.status.idle": "2023-11-19T18:47:47.883487Z",
     "shell.execute_reply": "2023-11-19T18:47:47.882790Z"
    }
   },
   "outputs": [
    {
     "data": {
      "text/plain": [
       "Trade_YearQ\n",
       "20213    73828\n",
       "20212    66692\n",
       "20220    55691\n",
       "20221    50041\n",
       "20231    45672\n",
       "         ...  \n",
       "19883        1\n",
       "20063        1\n",
       "19952        1\n",
       "19811        1\n",
       "20080        1\n",
       "Name: count, Length: 66, dtype: int64"
      ]
     },
     "execution_count": 14,
     "metadata": {},
     "output_type": "execute_result"
    }
   ],
   "source": [
    "df['Trade_YearQ'] = df['Trade_Year']*10 + df['Trade_Q']\n",
    "df['Trade_YearQ'].value_counts()"
   ]
  },
  {
   "cell_type": "code",
   "execution_count": 15,
   "id": "5205b3cd-0461-401c-8ea0-1215de6fd5f0",
   "metadata": {
    "execution": {
     "iopub.execute_input": "2023-11-19T18:47:47.885952Z",
     "iopub.status.busy": "2023-11-19T18:47:47.885338Z",
     "iopub.status.idle": "2023-11-19T18:47:48.227885Z",
     "shell.execute_reply": "2023-11-19T18:47:48.226817Z"
    }
   },
   "outputs": [],
   "source": [
    "df = df[~df['建築完成年月'].isna()].copy().reset_index(drop=True)"
   ]
  },
  {
   "cell_type": "code",
   "execution_count": 16,
   "id": "9a010972-0106-4a2b-8d00-82cde7307788",
   "metadata": {
    "execution": {
     "iopub.execute_input": "2023-11-19T18:47:48.232082Z",
     "iopub.status.busy": "2023-11-19T18:47:48.231140Z",
     "iopub.status.idle": "2023-11-19T18:47:48.666970Z",
     "shell.execute_reply": "2023-11-19T18:47:48.665915Z"
    }
   },
   "outputs": [],
   "source": [
    "df['Build_Year'] = df['建築完成年月'].apply(get_year_from_str).astype(int) + 1911\n",
    "df['Build_Month'] = df['建築完成年月'].apply(get_month_from_str).astype(int)"
   ]
  },
  {
   "cell_type": "code",
   "execution_count": 17,
   "id": "d7449769-8b72-4cf7-9ec4-eee2f99e4bc0",
   "metadata": {
    "execution": {
     "iopub.execute_input": "2023-11-19T18:47:48.670411Z",
     "iopub.status.busy": "2023-11-19T18:47:48.669886Z",
     "iopub.status.idle": "2023-11-19T18:47:49.157267Z",
     "shell.execute_reply": "2023-11-19T18:47:49.156037Z"
    }
   },
   "outputs": [],
   "source": [
    "df = df.query('Build_Year > 1910')\n",
    "df = df.query('Build_Month > 0 and Build_Month <= 12').copy().reset_index(drop=True)"
   ]
  },
  {
   "cell_type": "code",
   "execution_count": 18,
   "id": "df784ee6-19e9-43b9-a55e-e017ec4d1d58",
   "metadata": {
    "execution": {
     "iopub.execute_input": "2023-11-19T18:47:49.161063Z",
     "iopub.status.busy": "2023-11-19T18:47:49.160482Z",
     "iopub.status.idle": "2023-11-19T18:47:49.262348Z",
     "shell.execute_reply": "2023-11-19T18:47:49.261648Z"
    }
   },
   "outputs": [],
   "source": [
    "pd.set_option('display.max_columns', None)\n",
    "df = df.query('Trade_Year >= 2021 and Trade_Year <= 2022')"
   ]
  },
  {
   "cell_type": "code",
   "execution_count": 19,
   "id": "93aa598c-407f-48d0-9519-8ff789b6c84c",
   "metadata": {
    "execution": {
     "iopub.execute_input": "2023-11-19T18:47:49.264627Z",
     "iopub.status.busy": "2023-11-19T18:47:49.264472Z",
     "iopub.status.idle": "2023-11-19T18:47:49.486585Z",
     "shell.execute_reply": "2023-11-19T18:47:49.485300Z"
    }
   },
   "outputs": [
    {
     "data": {
      "text/plain": [
       "count   329326.00000\n",
       "mean        20.99939\n",
       "std         15.42516\n",
       "min          0.00000\n",
       "25%          5.83333\n",
       "50%         23.16667\n",
       "75%         32.16667\n",
       "max         60.08333\n",
       "Name: 屋齡, dtype: float64"
      ]
     },
     "execution_count": 19,
     "metadata": {},
     "output_type": "execute_result"
    }
   ],
   "source": [
    "df['屋齡'] = df['Trade_Year'] - df['Build_Year'] + (df['Trade_Month'] - df['Build_Month'])/12\n",
    "df = df.query('屋齡 >= 0 and 屋齡 <= 60.1').copy().reset_index(drop=True)\n",
    "df['屋齡'].describe()"
   ]
  },
  {
   "cell_type": "code",
   "execution_count": 20,
   "id": "d293e44e-c431-4ee7-9bb7-095e816a6a44",
   "metadata": {
    "execution": {
     "iopub.execute_input": "2023-11-19T18:47:49.489478Z",
     "iopub.status.busy": "2023-11-19T18:47:49.488977Z",
     "iopub.status.idle": "2023-11-19T18:47:49.509038Z",
     "shell.execute_reply": "2023-11-19T18:47:49.508211Z"
    }
   },
   "outputs": [
    {
     "data": {
      "text/plain": [
       "交易標的\n",
       "房地(土地+建物)       205689\n",
       "房地(土地+建物)+車位    121925\n",
       "建物                1712\n",
       "Name: count, dtype: int64"
      ]
     },
     "execution_count": 20,
     "metadata": {},
     "output_type": "execute_result"
    }
   ],
   "source": [
    "df['交易標的'].value_counts()"
   ]
  },
  {
   "cell_type": "code",
   "execution_count": 21,
   "id": "c8769069-cc56-4f57-bbcf-b90105fa5a34",
   "metadata": {
    "execution": {
     "iopub.execute_input": "2023-11-19T18:47:49.511355Z",
     "iopub.status.busy": "2023-11-19T18:47:49.511199Z",
     "iopub.status.idle": "2023-11-19T18:47:49.530230Z",
     "shell.execute_reply": "2023-11-19T18:47:49.529248Z"
    }
   },
   "outputs": [
    {
     "data": {
      "text/plain": [
       "建物型態\n",
       "住宅大樓(11層含以上有電梯)    134976\n",
       "透天厝                 85497\n",
       "華廈(10層含以下有電梯)       62331\n",
       "公寓(5樓含以下無電梯)        45192\n",
       "套房(1房1廳1衛)           1091\n",
       "店面(店鋪)                136\n",
       "廠辦                     70\n",
       "其他                     27\n",
       "辦公商業大樓                  6\n",
       "Name: count, dtype: int64"
      ]
     },
     "execution_count": 21,
     "metadata": {},
     "output_type": "execute_result"
    }
   ],
   "source": [
    "df['建物型態'].value_counts()"
   ]
  },
  {
   "cell_type": "code",
   "execution_count": 22,
   "id": "602f0cbb-682a-46a1-a8c4-f240e60607a7",
   "metadata": {
    "execution": {
     "iopub.execute_input": "2023-11-19T18:47:49.532709Z",
     "iopub.status.busy": "2023-11-19T18:47:49.532551Z",
     "iopub.status.idle": "2023-11-19T18:47:49.989457Z",
     "shell.execute_reply": "2023-11-19T18:47:49.988607Z"
    }
   },
   "outputs": [
    {
     "data": {
      "text/plain": [
       "交易標的\n",
       "房地(土地+建物)       205388\n",
       "房地(土地+建物)+車位    121891\n",
       "建物                1711\n",
       "Name: count, dtype: int64"
      ]
     },
     "execution_count": 22,
     "metadata": {},
     "output_type": "execute_result"
    }
   ],
   "source": [
    "df = df[~df['總樓層數'].isna()].copy()\n",
    "df = df[~df['總樓層數'].isna()].copy()\n",
    "df = df.query('交易標的 != \"土地\"').copy()\n",
    "df = df.reset_index(drop=True)\n",
    "df['交易標的'].value_counts()"
   ]
  },
  {
   "cell_type": "code",
   "execution_count": 23,
   "id": "7b9d1811-ef99-4689-9442-8307a6861a1f",
   "metadata": {
    "execution": {
     "iopub.execute_input": "2023-11-19T18:47:49.991638Z",
     "iopub.status.busy": "2023-11-19T18:47:49.991315Z",
     "iopub.status.idle": "2023-11-19T18:47:50.052137Z",
     "shell.execute_reply": "2023-11-19T18:47:50.051262Z"
    }
   },
   "outputs": [
    {
     "data": {
      "text/plain": [
       "count   328990.00000\n",
       "mean         1.49524\n",
       "std          1.08474\n",
       "min          0.03172\n",
       "25%          0.86540\n",
       "50%          1.21362\n",
       "75%          1.78277\n",
       "max         32.40138\n",
       "Name: 單價元平方公尺, dtype: float64"
      ]
     },
     "execution_count": 23,
     "metadata": {},
     "output_type": "execute_result"
    }
   ],
   "source": [
    "df['單價元平方公尺'].apply(lambda x: x / 60000) .describe()"
   ]
  },
  {
   "cell_type": "code",
   "execution_count": 24,
   "id": "7c293909-c93d-4124-a687-e5ba3f976f89",
   "metadata": {
    "execution": {
     "iopub.execute_input": "2023-11-19T18:47:50.054819Z",
     "iopub.status.busy": "2023-11-19T18:47:50.054574Z",
     "iopub.status.idle": "2023-11-19T18:47:51.124377Z",
     "shell.execute_reply": "2023-11-19T18:47:51.123429Z"
    }
   },
   "outputs": [],
   "source": [
    "floor_dict = {\n",
    "    '二十': 20,\n",
    "    '三十': 30,\n",
    "    '四十': 40,\n",
    "    '五十': 50,\n",
    "    '六十': 60,\n",
    "    '七十': 70,\n",
    "    '八十': 80,\n",
    "    '九十': 90,\n",
    "}\n",
    "floor_dict2 = {\n",
    "    '一': 1,\n",
    "    '二': 2,\n",
    "    '三': 3,\n",
    "    '四': 4,\n",
    "    '五': 5,\n",
    "    '六': 6,\n",
    "    '七': 7,\n",
    "    '八': 8,\n",
    "    '九': 9,\n",
    "}\n",
    "def get_floor(x):\n",
    "    x = str(x)\n",
    "    floor = 0\n",
    "    for k, v in floor_dict.items():\n",
    "        if x.startswith(k):\n",
    "            x = x.replace(k, '')\n",
    "            floor += v\n",
    "    if x.startswith('十'):\n",
    "        x = x.replace('十', '')\n",
    "        floor += 10\n",
    "    for k, v in floor_dict2.items():\n",
    "        if x.startswith(k):\n",
    "            x = x.replace(k, '')\n",
    "            floor += v\n",
    "    return floor\n",
    "\n",
    "df['total_floor'] = df['總樓層數'].apply(get_floor)\n",
    "df['floor'] = df['移轉層次'].apply(get_floor)"
   ]
  },
  {
   "cell_type": "code",
   "execution_count": 25,
   "id": "818088cd-17e4-4437-a9fb-e31db3455f6d",
   "metadata": {
    "execution": {
     "iopub.execute_input": "2023-11-19T18:47:51.127086Z",
     "iopub.status.busy": "2023-11-19T18:47:51.126913Z",
     "iopub.status.idle": "2023-11-19T18:47:54.184601Z",
     "shell.execute_reply": "2023-11-19T18:47:54.183801Z"
    }
   },
   "outputs": [],
   "source": [
    "def get_road_name(row):\n",
    "    road_name = row['土地位置建物門牌']\n",
    "    if road_name.startswith(row['縣市']):\n",
    "        road_name = road_name.replace(row['縣市'], '')\n",
    "    if road_name.startswith(row['鄉鎮市區']):\n",
    "        road_name = road_name.replace(row['鄉鎮市區'], '')\n",
    "    if '段' in road_name:\n",
    "        road_name = road_name.split('段')[0] + '段'\n",
    "    elif '路' in road_name:\n",
    "        road_name = road_name.split('路')[0] + '路'\n",
    "    elif '街' in road_name:\n",
    "        road_name = road_name.split('街')[0] + '街'\n",
    "    else:\n",
    "        road_name = \"\"\n",
    "    return road_name\n",
    "    \n",
    "df['路名'] = df.apply(lambda row: get_road_name(row), axis=1)"
   ]
  },
  {
   "cell_type": "code",
   "execution_count": 26,
   "id": "1ca1e315-52b7-4fa3-9530-5106b70a6b0b",
   "metadata": {
    "execution": {
     "iopub.execute_input": "2023-11-19T18:47:54.187133Z",
     "iopub.status.busy": "2023-11-19T18:47:54.186753Z",
     "iopub.status.idle": "2023-11-19T18:47:54.746435Z",
     "shell.execute_reply": "2023-11-19T18:47:54.745218Z"
    }
   },
   "outputs": [],
   "source": [
    "df = df.query('floor > 0').reset_index(drop=True)\n",
    "df = df.query('total_floor > 0').reset_index(drop=True)\n",
    "df = df.query('total_floor >= floor').reset_index(drop=True)\n",
    "df = df.query('路名 != \"\"').reset_index(drop=True)"
   ]
  },
  {
   "cell_type": "code",
   "execution_count": 27,
   "id": "379c7f22-7bdc-4033-a318-583365fb1a68",
   "metadata": {
    "execution": {
     "iopub.execute_input": "2023-11-19T18:47:54.750074Z",
     "iopub.status.busy": "2023-11-19T18:47:54.749803Z",
     "iopub.status.idle": "2023-11-19T18:47:54.772190Z",
     "shell.execute_reply": "2023-11-19T18:47:54.771386Z"
    }
   },
   "outputs": [
    {
     "data": {
      "text/html": [
       "<div>\n",
       "<style scoped>\n",
       "    .dataframe tbody tr th:only-of-type {\n",
       "        vertical-align: middle;\n",
       "    }\n",
       "\n",
       "    .dataframe tbody tr th {\n",
       "        vertical-align: top;\n",
       "    }\n",
       "\n",
       "    .dataframe thead th {\n",
       "        text-align: right;\n",
       "    }\n",
       "</style>\n",
       "<table border=\"1\" class=\"dataframe\">\n",
       "  <thead>\n",
       "    <tr style=\"text-align: right;\">\n",
       "      <th></th>\n",
       "      <th>鄉鎮市區</th>\n",
       "      <th>交易標的</th>\n",
       "      <th>土地位置建物門牌</th>\n",
       "      <th>土地移轉總面積平方公尺</th>\n",
       "      <th>都市土地使用分區</th>\n",
       "      <th>非都市土地使用分區</th>\n",
       "      <th>非都市土地使用編定</th>\n",
       "      <th>交易年月日</th>\n",
       "      <th>交易筆棟數</th>\n",
       "      <th>移轉層次</th>\n",
       "      <th>總樓層數</th>\n",
       "      <th>建物型態</th>\n",
       "      <th>主要用途</th>\n",
       "      <th>主要建材</th>\n",
       "      <th>建築完成年月</th>\n",
       "      <th>建物移轉總面積平方公尺</th>\n",
       "      <th>建物現況格局-房</th>\n",
       "      <th>建物現況格局-廳</th>\n",
       "      <th>建物現況格局-衛</th>\n",
       "      <th>建物現況格局-隔間</th>\n",
       "      <th>有無管理組織</th>\n",
       "      <th>總價元</th>\n",
       "      <th>單價元平方公尺</th>\n",
       "      <th>車位類別</th>\n",
       "      <th>車位移轉總面積平方公尺</th>\n",
       "      <th>車位總價元</th>\n",
       "      <th>備註</th>\n",
       "      <th>編號</th>\n",
       "      <th>主建物面積</th>\n",
       "      <th>附屬建物面積</th>\n",
       "      <th>陽台面積</th>\n",
       "      <th>電梯</th>\n",
       "      <th>移轉編號</th>\n",
       "      <th>縣市</th>\n",
       "      <th>source</th>\n",
       "      <th>車位面積</th>\n",
       "      <th>建物面積</th>\n",
       "      <th>土地面積</th>\n",
       "      <th>Trade_Year</th>\n",
       "      <th>Trade_Month</th>\n",
       "      <th>Trade_YearMonth</th>\n",
       "      <th>Trade_Q</th>\n",
       "      <th>Trade_YearQ</th>\n",
       "      <th>Build_Year</th>\n",
       "      <th>Build_Month</th>\n",
       "      <th>屋齡</th>\n",
       "      <th>total_floor</th>\n",
       "      <th>floor</th>\n",
       "      <th>路名</th>\n",
       "    </tr>\n",
       "  </thead>\n",
       "  <tbody>\n",
       "    <tr>\n",
       "      <th>204016</th>\n",
       "      <td>中和區</td>\n",
       "      <td>房地(土地+建物)</td>\n",
       "      <td>新北市中和區景平路６０１號七樓之二十九</td>\n",
       "      <td>8.39000</td>\n",
       "      <td>工</td>\n",
       "      <td>NaN</td>\n",
       "      <td>NaN</td>\n",
       "      <td>1111011</td>\n",
       "      <td>土地1建物1車位0</td>\n",
       "      <td>七層</td>\n",
       "      <td>十一層</td>\n",
       "      <td>住宅大樓(11層含以上有電梯)</td>\n",
       "      <td>辦公用</td>\n",
       "      <td>鋼筋混凝土造</td>\n",
       "      <td>921125.00000</td>\n",
       "      <td>63.09000</td>\n",
       "      <td>0</td>\n",
       "      <td>0</td>\n",
       "      <td>0</td>\n",
       "      <td>無</td>\n",
       "      <td>有</td>\n",
       "      <td>10500000</td>\n",
       "      <td>166429.00000</td>\n",
       "      <td>NaN</td>\n",
       "      <td>0.00000</td>\n",
       "      <td>0</td>\n",
       "      <td>NaN</td>\n",
       "      <td>RPPQMLLJJIHGFHF87DA</td>\n",
       "      <td>-1.05377</td>\n",
       "      <td>-0.59497</td>\n",
       "      <td>-0.43976</td>\n",
       "      <td>有</td>\n",
       "      <td>NaN</td>\n",
       "      <td>新北市</td>\n",
       "      <td>2022Q4</td>\n",
       "      <td>-0.71671</td>\n",
       "      <td>-1.12548</td>\n",
       "      <td>-0.68277</td>\n",
       "      <td>2022</td>\n",
       "      <td>10</td>\n",
       "      <td>202210</td>\n",
       "      <td>3</td>\n",
       "      <td>20223</td>\n",
       "      <td>2003</td>\n",
       "      <td>11</td>\n",
       "      <td>18.91667</td>\n",
       "      <td>11</td>\n",
       "      <td>7</td>\n",
       "      <td>景平路</td>\n",
       "    </tr>\n",
       "    <tr>\n",
       "      <th>32210</th>\n",
       "      <td>新竹市</td>\n",
       "      <td>房地(土地+建物)+車位</td>\n",
       "      <td>新竹市新竹市中正路１９８巷２３號六樓之５</td>\n",
       "      <td>22.43000</td>\n",
       "      <td>都市：其他:第二種住宅區</td>\n",
       "      <td>NaN</td>\n",
       "      <td>NaN</td>\n",
       "      <td>1100520</td>\n",
       "      <td>土地3建物1車位1</td>\n",
       "      <td>六層</td>\n",
       "      <td>十層</td>\n",
       "      <td>華廈(10層含以下有電梯)</td>\n",
       "      <td>住家用</td>\n",
       "      <td>鋼筋混凝土造</td>\n",
       "      <td>1100205.00000</td>\n",
       "      <td>112.03000</td>\n",
       "      <td>2</td>\n",
       "      <td>2</td>\n",
       "      <td>1</td>\n",
       "      <td>有</td>\n",
       "      <td>無</td>\n",
       "      <td>10000000</td>\n",
       "      <td>105854.00000</td>\n",
       "      <td>坡道平面</td>\n",
       "      <td>33.62000</td>\n",
       "      <td>1700000</td>\n",
       "      <td>預售屋、或土地及建物分件登記案件；</td>\n",
       "      <td>RPROMLSJOHGGFAO09DA</td>\n",
       "      <td>-0.75400</td>\n",
       "      <td>-0.59497</td>\n",
       "      <td>-0.48523</td>\n",
       "      <td>有</td>\n",
       "      <td>NaN</td>\n",
       "      <td>新竹市</td>\n",
       "      <td>2021Q3</td>\n",
       "      <td>1.36090</td>\n",
       "      <td>-0.31494</td>\n",
       "      <td>-0.28384</td>\n",
       "      <td>2021</td>\n",
       "      <td>5</td>\n",
       "      <td>202105</td>\n",
       "      <td>1</td>\n",
       "      <td>20211</td>\n",
       "      <td>2021</td>\n",
       "      <td>2</td>\n",
       "      <td>0.25000</td>\n",
       "      <td>10</td>\n",
       "      <td>6</td>\n",
       "      <td>中正路</td>\n",
       "    </tr>\n",
       "    <tr>\n",
       "      <th>127846</th>\n",
       "      <td>安平區</td>\n",
       "      <td>房地(土地+建物)+車位</td>\n",
       "      <td>台南市安平區府平路３８８號十三樓之６</td>\n",
       "      <td>21.08000</td>\n",
       "      <td>住</td>\n",
       "      <td>NaN</td>\n",
       "      <td>NaN</td>\n",
       "      <td>1110410</td>\n",
       "      <td>土地1建物1車位1</td>\n",
       "      <td>十三層</td>\n",
       "      <td>十五層</td>\n",
       "      <td>住宅大樓(11層含以上有電梯)</td>\n",
       "      <td>住家用</td>\n",
       "      <td>鋼筋混凝土構造</td>\n",
       "      <td>1100930.00000</td>\n",
       "      <td>166.30000</td>\n",
       "      <td>3</td>\n",
       "      <td>2</td>\n",
       "      <td>2</td>\n",
       "      <td>有</td>\n",
       "      <td>有</td>\n",
       "      <td>12700000</td>\n",
       "      <td>76368.00000</td>\n",
       "      <td>坡道平面</td>\n",
       "      <td>37.66000</td>\n",
       "      <td>0</td>\n",
       "      <td>含傢俱設備費；</td>\n",
       "      <td>RPROMLQKNHHGFAD87DA</td>\n",
       "      <td>-0.20419</td>\n",
       "      <td>-0.59497</td>\n",
       "      <td>0.32390</td>\n",
       "      <td>有</td>\n",
       "      <td>522.00000</td>\n",
       "      <td>台南市</td>\n",
       "      <td>2022Q2</td>\n",
       "      <td>1.48219</td>\n",
       "      <td>0.39429</td>\n",
       "      <td>-0.31523</td>\n",
       "      <td>2022</td>\n",
       "      <td>4</td>\n",
       "      <td>202204</td>\n",
       "      <td>1</td>\n",
       "      <td>20221</td>\n",
       "      <td>2021</td>\n",
       "      <td>9</td>\n",
       "      <td>0.58333</td>\n",
       "      <td>15</td>\n",
       "      <td>13</td>\n",
       "      <td>府平路</td>\n",
       "    </tr>\n",
       "    <tr>\n",
       "      <th>9131</th>\n",
       "      <td>信義區</td>\n",
       "      <td>房地(土地+建物)</td>\n",
       "      <td>基隆市信義區崇法街８９巷２號七樓</td>\n",
       "      <td>30.29000</td>\n",
       "      <td>住</td>\n",
       "      <td>NaN</td>\n",
       "      <td>NaN</td>\n",
       "      <td>1100517</td>\n",
       "      <td>土地1建物1車位0</td>\n",
       "      <td>七層</td>\n",
       "      <td>九層</td>\n",
       "      <td>華廈(10層含以下有電梯)</td>\n",
       "      <td>住家用</td>\n",
       "      <td>鋼筋混凝土造</td>\n",
       "      <td>1090513.00000</td>\n",
       "      <td>100.72000</td>\n",
       "      <td>2</td>\n",
       "      <td>2</td>\n",
       "      <td>1</td>\n",
       "      <td>有</td>\n",
       "      <td>有</td>\n",
       "      <td>6100000</td>\n",
       "      <td>60564.00000</td>\n",
       "      <td>NaN</td>\n",
       "      <td>0.00000</td>\n",
       "      <td>0</td>\n",
       "      <td>NaN</td>\n",
       "      <td>RPOPMLLJPHGGFDC37DA</td>\n",
       "      <td>-0.61519</td>\n",
       "      <td>0.94904</td>\n",
       "      <td>0.36348</td>\n",
       "      <td>有</td>\n",
       "      <td>NaN</td>\n",
       "      <td>基隆市</td>\n",
       "      <td>2021Q3</td>\n",
       "      <td>-0.71671</td>\n",
       "      <td>-0.48324</td>\n",
       "      <td>-0.11736</td>\n",
       "      <td>2021</td>\n",
       "      <td>5</td>\n",
       "      <td>202105</td>\n",
       "      <td>1</td>\n",
       "      <td>20211</td>\n",
       "      <td>2020</td>\n",
       "      <td>5</td>\n",
       "      <td>1.00000</td>\n",
       "      <td>9</td>\n",
       "      <td>7</td>\n",
       "      <td>崇法街</td>\n",
       "    </tr>\n",
       "    <tr>\n",
       "      <th>162976</th>\n",
       "      <td>北屯區</td>\n",
       "      <td>房地(土地+建物)+車位</td>\n",
       "      <td>台中市北屯區環太東路６２３號十二樓之６</td>\n",
       "      <td>23.23000</td>\n",
       "      <td>住</td>\n",
       "      <td>NaN</td>\n",
       "      <td>NaN</td>\n",
       "      <td>1110507</td>\n",
       "      <td>土地1建物1車位1</td>\n",
       "      <td>十二層</td>\n",
       "      <td>十四層</td>\n",
       "      <td>住宅大樓(11層含以上有電梯)</td>\n",
       "      <td>住家用</td>\n",
       "      <td>鋼筋混凝土造</td>\n",
       "      <td>1040615.00000</td>\n",
       "      <td>138.77000</td>\n",
       "      <td>3</td>\n",
       "      <td>2</td>\n",
       "      <td>2</td>\n",
       "      <td>有</td>\n",
       "      <td>有</td>\n",
       "      <td>12500000</td>\n",
       "      <td>90077.00000</td>\n",
       "      <td>坡道平面</td>\n",
       "      <td>21.58000</td>\n",
       "      <td>0</td>\n",
       "      <td>NaN</td>\n",
       "      <td>RPSOMLTJOHHGFBB28EA</td>\n",
       "      <td>-0.31732</td>\n",
       "      <td>-0.59497</td>\n",
       "      <td>0.46775</td>\n",
       "      <td>有</td>\n",
       "      <td>1809.00000</td>\n",
       "      <td>台中市</td>\n",
       "      <td>2022Q3</td>\n",
       "      <td>0.94782</td>\n",
       "      <td>0.05194</td>\n",
       "      <td>-0.26568</td>\n",
       "      <td>2022</td>\n",
       "      <td>5</td>\n",
       "      <td>202205</td>\n",
       "      <td>1</td>\n",
       "      <td>20221</td>\n",
       "      <td>2015</td>\n",
       "      <td>6</td>\n",
       "      <td>6.91667</td>\n",
       "      <td>14</td>\n",
       "      <td>12</td>\n",
       "      <td>環太東路</td>\n",
       "    </tr>\n",
       "  </tbody>\n",
       "</table>\n",
       "</div>"
      ],
      "text/plain": [
       "       鄉鎮市區          交易標的              土地位置建物門牌  土地移轉總面積平方公尺      都市土地使用分區  \\\n",
       "204016  中和區     房地(土地+建物)   新北市中和區景平路６０１號七樓之二十九      8.39000             工   \n",
       "32210   新竹市  房地(土地+建物)+車位  新竹市新竹市中正路１９８巷２３號六樓之５     22.43000  都市：其他:第二種住宅區   \n",
       "127846  安平區  房地(土地+建物)+車位    台南市安平區府平路３８８號十三樓之６     21.08000             住   \n",
       "9131    信義區     房地(土地+建物)      基隆市信義區崇法街８９巷２號七樓     30.29000             住   \n",
       "162976  北屯區  房地(土地+建物)+車位   台中市北屯區環太東路６２３號十二樓之６     23.23000             住   \n",
       "\n",
       "       非都市土地使用分區 非都市土地使用編定    交易年月日      交易筆棟數 移轉層次 總樓層數             建物型態  \\\n",
       "204016       NaN       NaN  1111011  土地1建物1車位0   七層  十一層  住宅大樓(11層含以上有電梯)   \n",
       "32210        NaN       NaN  1100520  土地3建物1車位1   六層   十層    華廈(10層含以下有電梯)   \n",
       "127846       NaN       NaN  1110410  土地1建物1車位1  十三層  十五層  住宅大樓(11層含以上有電梯)   \n",
       "9131         NaN       NaN  1100517  土地1建物1車位0   七層   九層    華廈(10層含以下有電梯)   \n",
       "162976       NaN       NaN  1110507  土地1建物1車位1  十二層  十四層  住宅大樓(11層含以上有電梯)   \n",
       "\n",
       "       主要用途     主要建材        建築完成年月  建物移轉總面積平方公尺  建物現況格局-房  建物現況格局-廳  建物現況格局-衛  \\\n",
       "204016  辦公用   鋼筋混凝土造  921125.00000     63.09000         0         0         0   \n",
       "32210   住家用   鋼筋混凝土造 1100205.00000    112.03000         2         2         1   \n",
       "127846  住家用  鋼筋混凝土構造 1100930.00000    166.30000         3         2         2   \n",
       "9131    住家用   鋼筋混凝土造 1090513.00000    100.72000         2         2         1   \n",
       "162976  住家用   鋼筋混凝土造 1040615.00000    138.77000         3         2         2   \n",
       "\n",
       "       建物現況格局-隔間 有無管理組織       總價元      單價元平方公尺  車位類別  車位移轉總面積平方公尺    車位總價元  \\\n",
       "204016         無      有  10500000 166429.00000   NaN      0.00000        0   \n",
       "32210          有      無  10000000 105854.00000  坡道平面     33.62000  1700000   \n",
       "127846         有      有  12700000  76368.00000  坡道平面     37.66000        0   \n",
       "9131           有      有   6100000  60564.00000   NaN      0.00000        0   \n",
       "162976         有      有  12500000  90077.00000  坡道平面     21.58000        0   \n",
       "\n",
       "                       備註                   編號    主建物面積   附屬建物面積     陽台面積 電梯  \\\n",
       "204016                NaN  RPPQMLLJJIHGFHF87DA -1.05377 -0.59497 -0.43976  有   \n",
       "32210   預售屋、或土地及建物分件登記案件；  RPROMLSJOHGGFAO09DA -0.75400 -0.59497 -0.48523  有   \n",
       "127846            含傢俱設備費；  RPROMLQKNHHGFAD87DA -0.20419 -0.59497  0.32390  有   \n",
       "9131                  NaN  RPOPMLLJPHGGFDC37DA -0.61519  0.94904  0.36348  有   \n",
       "162976                NaN  RPSOMLTJOHHGFBB28EA -0.31732 -0.59497  0.46775  有   \n",
       "\n",
       "             移轉編號   縣市  source     車位面積     建物面積     土地面積  Trade_Year  \\\n",
       "204016        NaN  新北市  2022Q4 -0.71671 -1.12548 -0.68277        2022   \n",
       "32210         NaN  新竹市  2021Q3  1.36090 -0.31494 -0.28384        2021   \n",
       "127846  522.00000  台南市  2022Q2  1.48219  0.39429 -0.31523        2022   \n",
       "9131          NaN  基隆市  2021Q3 -0.71671 -0.48324 -0.11736        2021   \n",
       "162976 1809.00000  台中市  2022Q3  0.94782  0.05194 -0.26568        2022   \n",
       "\n",
       "        Trade_Month  Trade_YearMonth  Trade_Q  Trade_YearQ  Build_Year  \\\n",
       "204016           10           202210        3        20223        2003   \n",
       "32210             5           202105        1        20211        2021   \n",
       "127846            4           202204        1        20221        2021   \n",
       "9131              5           202105        1        20211        2020   \n",
       "162976            5           202205        1        20221        2015   \n",
       "\n",
       "        Build_Month       屋齡  total_floor  floor    路名  \n",
       "204016           11 18.91667           11      7   景平路  \n",
       "32210             2  0.25000           10      6   中正路  \n",
       "127846            9  0.58333           15     13   府平路  \n",
       "9131              5  1.00000            9      7   崇法街  \n",
       "162976            6  6.91667           14     12  環太東路  "
      ]
     },
     "execution_count": 27,
     "metadata": {},
     "output_type": "execute_result"
    }
   ],
   "source": [
    "df.sample(5)"
   ]
  },
  {
   "cell_type": "code",
   "execution_count": 28,
   "id": "26a617a2-b81a-4864-a49e-6c90d10593b5",
   "metadata": {
    "execution": {
     "iopub.execute_input": "2023-11-19T18:47:54.773960Z",
     "iopub.status.busy": "2023-11-19T18:47:54.773797Z",
     "iopub.status.idle": "2023-11-19T18:47:54.778025Z",
     "shell.execute_reply": "2023-11-19T18:47:54.777285Z"
    }
   },
   "outputs": [],
   "source": [
    "df['總樓層數'] = df['total_floor']\n",
    "df['移轉層次'] = df['floor']"
   ]
  },
  {
   "cell_type": "code",
   "execution_count": 29,
   "id": "f19b8e1b-9d35-44b3-a931-657f738b4495",
   "metadata": {
    "execution": {
     "iopub.execute_input": "2023-11-19T18:47:54.779766Z",
     "iopub.status.busy": "2023-11-19T18:47:54.779472Z",
     "iopub.status.idle": "2023-11-19T18:47:54.899239Z",
     "shell.execute_reply": "2023-11-19T18:47:54.898126Z"
    }
   },
   "outputs": [
    {
     "name": "stdout",
     "output_type": "stream",
     "text": [
      "(239981, 49)\n",
      "(220087, 49)\n",
      "(219989, 49)\n"
     ]
    }
   ],
   "source": [
    "print(df.shape)\n",
    "df = df.query('移轉層次 >= 2 and 移轉層次 <= 46')\n",
    "print(df.shape)\n",
    "df = df.query('總樓層數 >= 2 and 總樓層數 <= 68')\n",
    "print(df.shape)"
   ]
  },
  {
   "cell_type": "code",
   "execution_count": 30,
   "id": "dfffb082-37fe-47b7-a59c-b475a9aa6925",
   "metadata": {
    "execution": {
     "iopub.execute_input": "2023-11-19T18:47:54.901968Z",
     "iopub.status.busy": "2023-11-19T18:47:54.901817Z",
     "iopub.status.idle": "2023-11-19T18:47:54.906221Z",
     "shell.execute_reply": "2023-11-19T18:47:54.905126Z"
    }
   },
   "outputs": [],
   "source": [
    "def get_car_cnt(x):\n",
    "    x = x.split('車位')[-1]\n",
    "    if x.isdigit():\n",
    "        return int(x)\n",
    "    return -999999"
   ]
  },
  {
   "cell_type": "code",
   "execution_count": 31,
   "id": "d7399cbd-b4a1-45b5-977a-b7affafa805a",
   "metadata": {
    "execution": {
     "iopub.execute_input": "2023-11-19T18:47:54.908767Z",
     "iopub.status.busy": "2023-11-19T18:47:54.908582Z",
     "iopub.status.idle": "2023-11-19T18:47:54.997859Z",
     "shell.execute_reply": "2023-11-19T18:47:54.996920Z"
    }
   },
   "outputs": [
    {
     "data": {
      "text/plain": [
       "count   219989.00000\n",
       "mean         0.60487\n",
       "std          0.75483\n",
       "min          0.00000\n",
       "25%          0.00000\n",
       "50%          1.00000\n",
       "75%          1.00000\n",
       "max         31.00000\n",
       "Name: 車位個數, dtype: float64"
      ]
     },
     "execution_count": 31,
     "metadata": {},
     "output_type": "execute_result"
    }
   ],
   "source": [
    "df['車位個數'] = df['交易筆棟數'].apply(get_car_cnt).astype(int)\n",
    "df['車位個數'].describe()"
   ]
  },
  {
   "cell_type": "code",
   "execution_count": 32,
   "id": "606b68e2-e0c3-42b1-9d75-3a8232a831e5",
   "metadata": {
    "execution": {
     "iopub.execute_input": "2023-11-19T18:47:55.000757Z",
     "iopub.status.busy": "2023-11-19T18:47:55.000531Z",
     "iopub.status.idle": "2023-11-19T18:47:55.046557Z",
     "shell.execute_reply": "2023-11-19T18:47:55.045879Z"
    }
   },
   "outputs": [
    {
     "data": {
      "text/plain": [
       "count   219989.00000\n",
       "mean         1.63138\n",
       "std          1.05441\n",
       "min          0.07217\n",
       "25%          0.95081\n",
       "50%          1.33412\n",
       "75%          1.99172\n",
       "max         15.59512\n",
       "Name: 單價, dtype: float64"
      ]
     },
     "execution_count": 32,
     "metadata": {},
     "output_type": "execute_result"
    }
   ],
   "source": [
    "df['單價'] = df['單價元平方公尺'].apply(lambda x: x/58000)\n",
    "df['單價'].describe()"
   ]
  },
  {
   "cell_type": "code",
   "execution_count": 33,
   "id": "6aeb71a5-6eec-4e5c-b91e-9c150ad4ad33",
   "metadata": {
    "execution": {
     "iopub.execute_input": "2023-11-19T18:47:55.049040Z",
     "iopub.status.busy": "2023-11-19T18:47:55.048766Z",
     "iopub.status.idle": "2023-11-19T18:47:55.295546Z",
     "shell.execute_reply": "2023-11-19T18:47:55.294366Z"
    }
   },
   "outputs": [],
   "source": [
    "df = df.query('單價 > 0').copy().reset_index(drop=True)"
   ]
  },
  {
   "cell_type": "code",
   "execution_count": 34,
   "id": "d86c96a6-ed40-42e8-a502-60c7280ce189",
   "metadata": {
    "execution": {
     "iopub.execute_input": "2023-11-19T18:47:55.299373Z",
     "iopub.status.busy": "2023-11-19T18:47:55.299051Z",
     "iopub.status.idle": "2023-11-19T18:47:55.316864Z",
     "shell.execute_reply": "2023-11-19T18:47:55.316154Z"
    }
   },
   "outputs": [],
   "source": [
    "df['格局_房'] = df['建物現況格局-房']\n",
    "df['格局_廳'] = df['建物現況格局-廳']\n",
    "df['格局_衛'] = df['建物現況格局-衛']\n",
    "df['格局_隔間'] = df['建物現況格局-隔間'].map({'有': True, '無': False})\n",
    "#df['格局_電梯'] = df['電梯'].map({'有': True, '無': False})\n",
    "df['格局_管理'] = df['有無管理組織'].map({'有': True, '無': False})"
   ]
  },
  {
   "cell_type": "code",
   "execution_count": 35,
   "id": "992c7195-4ab4-4492-b4c5-c1c9f12ea9fa",
   "metadata": {
    "execution": {
     "iopub.execute_input": "2023-11-19T18:47:55.319205Z",
     "iopub.status.busy": "2023-11-19T18:47:55.319044Z",
     "iopub.status.idle": "2023-11-19T18:48:04.087728Z",
     "shell.execute_reply": "2023-11-19T18:48:04.087090Z"
    }
   },
   "outputs": [
    {
     "name": "stdout",
     "output_type": "stream",
     "text": [
      "(2415332, 9)\n",
      "set()\n",
      "(962995, 9)\n",
      "(894637, 9)\n",
      "主要用途\n",
      "住家用    196598\n",
      "辦公用      5112\n",
      "商業用      5005\n",
      "工業用      1692\n",
      "住商用       356\n",
      "其他         46\n",
      "住工用        41\n",
      "工商用        28\n",
      "Name: count, dtype: int64\n",
      "主要用途_from_info\n",
      "住家用      133156\n",
      "集合住宅      61049\n",
      "商業用        5806\n",
      "辦公室        4010\n",
      "一般事務所      2577\n",
      "工業用        1204\n",
      "廠房          519\n",
      "住商用         411\n",
      "國民住宅         59\n",
      "店鋪           44\n",
      "住工用          43\n",
      "Name: count, dtype: int64\n"
     ]
    }
   ],
   "source": [
    "dfs_build = []\n",
    "for pathto_file in glob.glob('../外部資料集/實價登錄/*/*_a_build.csv'):\n",
    "    _df = pd.read_csv(pathto_file, skiprows=[1])\n",
    "    dfs_build.append(_df)\n",
    "df_build = pd.concat(dfs_build).reset_index(drop=True)\n",
    "\n",
    "useages = ['住家用', '集合住宅', '其他', '店鋪', '商業用', '國民住宅', '住工用', '一般事務所', '住商用',\n",
    "       '廠房', '工業用', '辦公室']\n",
    "print(df_build.shape)\n",
    "print(set(useages) - set(df_build.主要用途.unique().tolist()))\n",
    "df_build = df_build[df_build['主要用途'].isin(useages)]\n",
    "print(df_build.shape)\n",
    "df_build = df_build.drop_duplicates(subset=['編號'], keep='first')\n",
    "print(df_build.shape)\n",
    "\n",
    "df_build_usage_map = dict(zip(df_build['編號'].values, df_build['主要用途'].values))\n",
    "\n",
    "df['主要用途_from_info'] = df['編號'].map(df_build_usage_map)\n",
    "df = df[~df['主要用途_from_info'].isna()].copy().reset_index(drop=True)\n",
    "df = df[~df['主要用途'].isna()].copy().reset_index(drop=True)\n",
    "print(df['主要用途'].value_counts())\n",
    "print(df['主要用途_from_info'].value_counts())\n",
    "df['主要用途'] = df['主要用途_from_info']"
   ]
  },
  {
   "cell_type": "code",
   "execution_count": null,
   "id": "734dba22-6dc0-4480-aae5-774514e2bcae",
   "metadata": {},
   "outputs": [],
   "source": []
  },
  {
   "cell_type": "code",
   "execution_count": 36,
   "id": "3a32099c-8a03-40c4-bfa7-7b15a8cb36c6",
   "metadata": {
    "execution": {
     "iopub.execute_input": "2023-11-19T18:48:04.090198Z",
     "iopub.status.busy": "2023-11-19T18:48:04.089865Z",
     "iopub.status.idle": "2023-11-19T18:48:04.912174Z",
     "shell.execute_reply": "2023-11-19T18:48:04.911230Z"
    }
   },
   "outputs": [
    {
     "data": {
      "text/html": [
       "<div>\n",
       "<style scoped>\n",
       "    .dataframe tbody tr th:only-of-type {\n",
       "        vertical-align: middle;\n",
       "    }\n",
       "\n",
       "    .dataframe tbody tr th {\n",
       "        vertical-align: top;\n",
       "    }\n",
       "\n",
       "    .dataframe thead th {\n",
       "        text-align: right;\n",
       "    }\n",
       "</style>\n",
       "<table border=\"1\" class=\"dataframe\">\n",
       "  <thead>\n",
       "    <tr style=\"text-align: right;\">\n",
       "      <th></th>\n",
       "      <th>縣市</th>\n",
       "      <th>鄉鎮市區</th>\n",
       "      <th>路名</th>\n",
       "      <th>建物型態</th>\n",
       "      <th>主要用途</th>\n",
       "      <th>Trade_YearQ</th>\n",
       "      <th>單價</th>\n",
       "    </tr>\n",
       "  </thead>\n",
       "  <tbody>\n",
       "    <tr>\n",
       "      <th>0</th>\n",
       "      <td>台北市</td>\n",
       "      <td>中山區</td>\n",
       "      <td>新生北路二段</td>\n",
       "      <td>住宅大樓(11層含以上有電梯)</td>\n",
       "      <td>商業用</td>\n",
       "      <td>20212</td>\n",
       "      <td>2.92557</td>\n",
       "    </tr>\n",
       "    <tr>\n",
       "      <th>1</th>\n",
       "      <td>台北市</td>\n",
       "      <td>士林區</td>\n",
       "      <td>格致路</td>\n",
       "      <td>華廈(10層含以下有電梯)</td>\n",
       "      <td>商業用</td>\n",
       "      <td>20212</td>\n",
       "      <td>2.50705</td>\n",
       "    </tr>\n",
       "    <tr>\n",
       "      <th>2</th>\n",
       "      <td>台北市</td>\n",
       "      <td>士林區</td>\n",
       "      <td>延平北路六段</td>\n",
       "      <td>公寓(5樓含以下無電梯)</td>\n",
       "      <td>住家用</td>\n",
       "      <td>20212</td>\n",
       "      <td>1.88367</td>\n",
       "    </tr>\n",
       "    <tr>\n",
       "      <th>3</th>\n",
       "      <td>台北市</td>\n",
       "      <td>中山區</td>\n",
       "      <td>植福路</td>\n",
       "      <td>住宅大樓(11層含以上有電梯)</td>\n",
       "      <td>住家用</td>\n",
       "      <td>20212</td>\n",
       "      <td>11.63088</td>\n",
       "    </tr>\n",
       "    <tr>\n",
       "      <th>4</th>\n",
       "      <td>台北市</td>\n",
       "      <td>信義區</td>\n",
       "      <td>忠孝東路五段</td>\n",
       "      <td>華廈(10層含以下有電梯)</td>\n",
       "      <td>住家用</td>\n",
       "      <td>20212</td>\n",
       "      <td>5.00043</td>\n",
       "    </tr>\n",
       "    <tr>\n",
       "      <th>5</th>\n",
       "      <td>台北市</td>\n",
       "      <td>松山區</td>\n",
       "      <td>南京東路五段</td>\n",
       "      <td>住宅大樓(11層含以上有電梯)</td>\n",
       "      <td>住家用</td>\n",
       "      <td>20212</td>\n",
       "      <td>4.17467</td>\n",
       "    </tr>\n",
       "    <tr>\n",
       "      <th>6</th>\n",
       "      <td>台北市</td>\n",
       "      <td>內湖區</td>\n",
       "      <td>成功路四段</td>\n",
       "      <td>住宅大樓(11層含以上有電梯)</td>\n",
       "      <td>一般事務所</td>\n",
       "      <td>20212</td>\n",
       "      <td>4.23005</td>\n",
       "    </tr>\n",
       "    <tr>\n",
       "      <th>7</th>\n",
       "      <td>台北市</td>\n",
       "      <td>信義區</td>\n",
       "      <td>信義路五段</td>\n",
       "      <td>住宅大樓(11層含以上有電梯)</td>\n",
       "      <td>住家用</td>\n",
       "      <td>20212</td>\n",
       "      <td>4.14955</td>\n",
       "    </tr>\n",
       "    <tr>\n",
       "      <th>8</th>\n",
       "      <td>台北市</td>\n",
       "      <td>中山區</td>\n",
       "      <td>新生北路三段</td>\n",
       "      <td>華廈(10層含以下有電梯)</td>\n",
       "      <td>住家用</td>\n",
       "      <td>20212</td>\n",
       "      <td>2.46779</td>\n",
       "    </tr>\n",
       "    <tr>\n",
       "      <th>9</th>\n",
       "      <td>台北市</td>\n",
       "      <td>大安區</td>\n",
       "      <td>市民大道三段</td>\n",
       "      <td>住宅大樓(11層含以上有電梯)</td>\n",
       "      <td>住家用</td>\n",
       "      <td>20212</td>\n",
       "      <td>4.76069</td>\n",
       "    </tr>\n",
       "  </tbody>\n",
       "</table>\n",
       "</div>"
      ],
      "text/plain": [
       "    縣市 鄉鎮市區      路名             建物型態   主要用途  Trade_YearQ       單價\n",
       "0  台北市  中山區  新生北路二段  住宅大樓(11層含以上有電梯)    商業用        20212  2.92557\n",
       "1  台北市  士林區     格致路    華廈(10層含以下有電梯)    商業用        20212  2.50705\n",
       "2  台北市  士林區  延平北路六段     公寓(5樓含以下無電梯)    住家用        20212  1.88367\n",
       "3  台北市  中山區     植福路  住宅大樓(11層含以上有電梯)    住家用        20212 11.63088\n",
       "4  台北市  信義區  忠孝東路五段    華廈(10層含以下有電梯)    住家用        20212  5.00043\n",
       "5  台北市  松山區  南京東路五段  住宅大樓(11層含以上有電梯)    住家用        20212  4.17467\n",
       "6  台北市  內湖區   成功路四段  住宅大樓(11層含以上有電梯)  一般事務所        20212  4.23005\n",
       "7  台北市  信義區   信義路五段  住宅大樓(11層含以上有電梯)    住家用        20212  4.14955\n",
       "8  台北市  中山區  新生北路三段    華廈(10層含以下有電梯)    住家用        20212  2.46779\n",
       "9  台北市  大安區  市民大道三段  住宅大樓(11層含以上有電梯)    住家用        20212  4.76069"
      ]
     },
     "execution_count": 36,
     "metadata": {},
     "output_type": "execute_result"
    }
   ],
   "source": [
    "use_cols = ['縣市', '鄉鎮市區', '路名', '建物型態', '主要用途', 'Trade_YearQ', '單價']\n",
    "\n",
    "df[use_cols].to_csv('../外部資料集/實價登錄/external_gov_data_by_year.csv', index=False)\n",
    "df[use_cols].head(10)"
   ]
  },
  {
   "cell_type": "code",
   "execution_count": 37,
   "id": "baac641e-2f0a-4b7a-ab4c-416bc73c2729",
   "metadata": {
    "execution": {
     "iopub.execute_input": "2023-11-19T18:48:04.914894Z",
     "iopub.status.busy": "2023-11-19T18:48:04.914663Z",
     "iopub.status.idle": "2023-11-19T18:48:04.921192Z",
     "shell.execute_reply": "2023-11-19T18:48:04.920370Z"
    }
   },
   "outputs": [
    {
     "data": {
      "text/plain": [
       "Trade_YearQ\n",
       "20213    40799\n",
       "20212    36395\n",
       "20220    31742\n",
       "20221    28923\n",
       "20222    26665\n",
       "20223    25127\n",
       "20211    17390\n",
       "20210     1837\n",
       "Name: count, dtype: int64"
      ]
     },
     "execution_count": 37,
     "metadata": {},
     "output_type": "execute_result"
    }
   ],
   "source": [
    "df.Trade_YearQ.value_counts()"
   ]
  },
  {
   "cell_type": "code",
   "execution_count": null,
   "id": "f329efcb-ae96-407e-a7a2-e41952c85524",
   "metadata": {},
   "outputs": [],
   "source": []
  }
 ],
 "metadata": {
  "kernelspec": {
   "display_name": "Python 3 (ipykernel)",
   "language": "python",
   "name": "python3"
  },
  "language_info": {
   "codemirror_mode": {
    "name": "ipython",
    "version": 3
   },
   "file_extension": ".py",
   "mimetype": "text/x-python",
   "name": "python",
   "nbconvert_exporter": "python",
   "pygments_lexer": "ipython3",
   "version": "3.11.5"
  }
 },
 "nbformat": 4,
 "nbformat_minor": 5
}
