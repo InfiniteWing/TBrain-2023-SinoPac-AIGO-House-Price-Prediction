{
 "cells": [
  {
   "cell_type": "code",
   "execution_count": 1,
   "id": "032d5851-c422-4765-95a7-94e7c1488bbd",
   "metadata": {
    "execution": {
     "iopub.execute_input": "2023-11-19T18:48:55.419403Z",
     "iopub.status.busy": "2023-11-19T18:48:55.419266Z",
     "iopub.status.idle": "2023-11-19T18:48:55.639768Z",
     "shell.execute_reply": "2023-11-19T18:48:55.639164Z"
    }
   },
   "outputs": [],
   "source": [
    "import glob\n",
    "import os\n",
    "import pandas as pd\n",
    "import numpy as np\n",
    "import pyproj\n",
    "from tqdm import tqdm\n",
    "from multiprocessing import Pool\n",
    "import warnings\n",
    "\n",
    "warnings.simplefilter(action='ignore', category=FutureWarning)"
   ]
  },
  {
   "cell_type": "code",
   "execution_count": 2,
   "id": "ec15e80c-ec65-41b1-a5ab-335711d7722b",
   "metadata": {
    "execution": {
     "iopub.execute_input": "2023-11-19T18:48:55.642828Z",
     "iopub.status.busy": "2023-11-19T18:48:55.642642Z",
     "iopub.status.idle": "2023-11-19T18:48:57.369373Z",
     "shell.execute_reply": "2023-11-19T18:48:57.368527Z"
    }
   },
   "outputs": [
    {
     "data": {
      "text/html": [
       "<div>\n",
       "<style scoped>\n",
       "    .dataframe tbody tr th:only-of-type {\n",
       "        vertical-align: middle;\n",
       "    }\n",
       "\n",
       "    .dataframe tbody tr th {\n",
       "        vertical-align: top;\n",
       "    }\n",
       "\n",
       "    .dataframe thead th {\n",
       "        text-align: right;\n",
       "    }\n",
       "</style>\n",
       "<table border=\"1\" class=\"dataframe\">\n",
       "  <thead>\n",
       "    <tr style=\"text-align: right;\">\n",
       "      <th></th>\n",
       "      <th>區　域　別</th>\n",
       "      <th>年底人口數</th>\n",
       "      <th>土地面積</th>\n",
       "      <th>人口密度</th>\n",
       "    </tr>\n",
       "  </thead>\n",
       "  <tbody>\n",
       "    <tr>\n",
       "      <th>0</th>\n",
       "      <td>總　　計</td>\n",
       "      <td>23264640</td>\n",
       "      <td>36197.0669</td>\n",
       "      <td>642.72169</td>\n",
       "    </tr>\n",
       "    <tr>\n",
       "      <th>1</th>\n",
       "      <td>新  北  市</td>\n",
       "      <td>3995551</td>\n",
       "      <td>2052.5667</td>\n",
       "      <td>1946.612015</td>\n",
       "    </tr>\n",
       "    <tr>\n",
       "      <th>2</th>\n",
       "      <td>板橋區</td>\n",
       "      <td>549572</td>\n",
       "      <td>23.1373</td>\n",
       "      <td>23752.641838</td>\n",
       "    </tr>\n",
       "    <tr>\n",
       "      <th>3</th>\n",
       "      <td>三重區</td>\n",
       "      <td>379825</td>\n",
       "      <td>16.3170</td>\n",
       "      <td>23277.869706</td>\n",
       "    </tr>\n",
       "    <tr>\n",
       "      <th>4</th>\n",
       "      <td>中和區</td>\n",
       "      <td>403109</td>\n",
       "      <td>20.1440</td>\n",
       "      <td>20011.368149</td>\n",
       "    </tr>\n",
       "    <tr>\n",
       "      <th>...</th>\n",
       "      <td>...</td>\n",
       "      <td>...</td>\n",
       "      <td>...</td>\n",
       "      <td>...</td>\n",
       "    </tr>\n",
       "    <tr>\n",
       "      <th>390</th>\n",
       "      <td>北竿鄉</td>\n",
       "      <td>3181</td>\n",
       "      <td>9.9000</td>\n",
       "      <td>321.313131</td>\n",
       "    </tr>\n",
       "    <tr>\n",
       "      <th>391</th>\n",
       "      <td>莒光鄉</td>\n",
       "      <td>1471</td>\n",
       "      <td>4.7000</td>\n",
       "      <td>312.978723</td>\n",
       "    </tr>\n",
       "    <tr>\n",
       "      <th>392</th>\n",
       "      <td>東引鄉</td>\n",
       "      <td>1534</td>\n",
       "      <td>3.8000</td>\n",
       "      <td>403.684211</td>\n",
       "    </tr>\n",
       "    <tr>\n",
       "      <th>393</th>\n",
       "      <td>東沙群島</td>\n",
       "      <td>…</td>\n",
       "      <td>2.3800</td>\n",
       "      <td>…</td>\n",
       "    </tr>\n",
       "    <tr>\n",
       "      <th>394</th>\n",
       "      <td>南沙群島</td>\n",
       "      <td>…</td>\n",
       "      <td>0.5045</td>\n",
       "      <td>…</td>\n",
       "    </tr>\n",
       "  </tbody>\n",
       "</table>\n",
       "<p>395 rows × 4 columns</p>\n",
       "</div>"
      ],
      "text/plain": [
       "        區　域　別     年底人口數        土地面積          人口密度\n",
       "0       總　　計　  23264640  36197.0669     642.72169\n",
       "1    新  北  市　   3995551   2052.5667   1946.612015\n",
       "2       　板橋區　    549572     23.1373  23752.641838\n",
       "3       　三重區　    379825     16.3170  23277.869706\n",
       "4       　中和區　    403109     20.1440  20011.368149\n",
       "..        ...       ...         ...           ...\n",
       "390     　北竿鄉　      3181      9.9000    321.313131\n",
       "391     　莒光鄉　      1471      4.7000    312.978723\n",
       "392     　東引鄉　      1534      3.8000    403.684211\n",
       "393      東沙群島        …       2.3800            … \n",
       "394      南沙群島        …       0.5045            … \n",
       "\n",
       "[395 rows x 4 columns]"
      ]
     },
     "execution_count": 2,
     "metadata": {},
     "output_type": "execute_result"
    }
   ],
   "source": [
    "df = pd.read_excel('../外部資料集/鄉鎮土地面積及人口密度(97).ods', engine='odf', skiprows=[i for i in range(40)])\n",
    "#df = df.drop_duplicates(subset=['地址'], keep='first')\n",
    "#df = df.reset_index()\n",
    "df"
   ]
  },
  {
   "cell_type": "code",
   "execution_count": 3,
   "id": "0770ef05-fd9a-4cb7-9ee1-25a7d7f14dd5",
   "metadata": {
    "execution": {
     "iopub.execute_input": "2023-11-19T18:48:57.372236Z",
     "iopub.status.busy": "2023-11-19T18:48:57.372091Z",
     "iopub.status.idle": "2023-11-19T18:48:57.397070Z",
     "shell.execute_reply": "2023-11-19T18:48:57.396135Z"
    }
   },
   "outputs": [
    {
     "name": "stdout",
     "output_type": "stream",
     "text": [
      "skiping 東沙群島\n",
      "skiping 南沙群島\n"
     ]
    },
    {
     "data": {
      "text/html": [
       "<div>\n",
       "<style scoped>\n",
       "    .dataframe tbody tr th:only-of-type {\n",
       "        vertical-align: middle;\n",
       "    }\n",
       "\n",
       "    .dataframe tbody tr th {\n",
       "        vertical-align: top;\n",
       "    }\n",
       "\n",
       "    .dataframe thead th {\n",
       "        text-align: right;\n",
       "    }\n",
       "</style>\n",
       "<table border=\"1\" class=\"dataframe\">\n",
       "  <thead>\n",
       "    <tr style=\"text-align: right;\">\n",
       "      <th></th>\n",
       "      <th>縣市</th>\n",
       "      <th>鄉鎮市區</th>\n",
       "      <th>行政區人口數</th>\n",
       "      <th>行政區土地面積</th>\n",
       "      <th>行政區人口密度</th>\n",
       "    </tr>\n",
       "  </thead>\n",
       "  <tbody>\n",
       "    <tr>\n",
       "      <th>0</th>\n",
       "      <td>新北市</td>\n",
       "      <td>板橋區</td>\n",
       "      <td>549572</td>\n",
       "      <td>23.1373</td>\n",
       "      <td>23752.641838</td>\n",
       "    </tr>\n",
       "    <tr>\n",
       "      <th>1</th>\n",
       "      <td>新北市</td>\n",
       "      <td>三重區</td>\n",
       "      <td>379825</td>\n",
       "      <td>16.3170</td>\n",
       "      <td>23277.869706</td>\n",
       "    </tr>\n",
       "    <tr>\n",
       "      <th>2</th>\n",
       "      <td>新北市</td>\n",
       "      <td>中和區</td>\n",
       "      <td>403109</td>\n",
       "      <td>20.1440</td>\n",
       "      <td>20011.368149</td>\n",
       "    </tr>\n",
       "    <tr>\n",
       "      <th>3</th>\n",
       "      <td>新北市</td>\n",
       "      <td>永和區</td>\n",
       "      <td>212170</td>\n",
       "      <td>5.7138</td>\n",
       "      <td>37132.906297</td>\n",
       "    </tr>\n",
       "    <tr>\n",
       "      <th>4</th>\n",
       "      <td>新北市</td>\n",
       "      <td>新莊區</td>\n",
       "      <td>419966</td>\n",
       "      <td>19.7383</td>\n",
       "      <td>21276.705694</td>\n",
       "    </tr>\n",
       "    <tr>\n",
       "      <th>...</th>\n",
       "      <td>...</td>\n",
       "      <td>...</td>\n",
       "      <td>...</td>\n",
       "      <td>...</td>\n",
       "      <td>...</td>\n",
       "    </tr>\n",
       "    <tr>\n",
       "      <th>365</th>\n",
       "      <td>金門縣</td>\n",
       "      <td>烏坵鄉</td>\n",
       "      <td>670</td>\n",
       "      <td>1.2000</td>\n",
       "      <td>558.333333</td>\n",
       "    </tr>\n",
       "    <tr>\n",
       "      <th>366</th>\n",
       "      <td>連江縣</td>\n",
       "      <td>南竿鄉</td>\n",
       "      <td>7797</td>\n",
       "      <td>10.4000</td>\n",
       "      <td>749.711538</td>\n",
       "    </tr>\n",
       "    <tr>\n",
       "      <th>367</th>\n",
       "      <td>連江縣</td>\n",
       "      <td>北竿鄉</td>\n",
       "      <td>3181</td>\n",
       "      <td>9.9000</td>\n",
       "      <td>321.313131</td>\n",
       "    </tr>\n",
       "    <tr>\n",
       "      <th>368</th>\n",
       "      <td>連江縣</td>\n",
       "      <td>莒光鄉</td>\n",
       "      <td>1471</td>\n",
       "      <td>4.7000</td>\n",
       "      <td>312.978723</td>\n",
       "    </tr>\n",
       "    <tr>\n",
       "      <th>369</th>\n",
       "      <td>連江縣</td>\n",
       "      <td>東引鄉</td>\n",
       "      <td>1534</td>\n",
       "      <td>3.8000</td>\n",
       "      <td>403.684211</td>\n",
       "    </tr>\n",
       "  </tbody>\n",
       "</table>\n",
       "<p>370 rows × 5 columns</p>\n",
       "</div>"
      ],
      "text/plain": [
       "      縣市 鄉鎮市區  行政區人口數  行政區土地面積       行政區人口密度\n",
       "0    新北市  板橋區  549572  23.1373  23752.641838\n",
       "1    新北市  三重區  379825  16.3170  23277.869706\n",
       "2    新北市  中和區  403109  20.1440  20011.368149\n",
       "3    新北市  永和區  212170   5.7138  37132.906297\n",
       "4    新北市  新莊區  419966  19.7383  21276.705694\n",
       "..   ...  ...     ...      ...           ...\n",
       "365  金門縣  烏坵鄉     670   1.2000    558.333333\n",
       "366  連江縣  南竿鄉    7797  10.4000    749.711538\n",
       "367  連江縣  北竿鄉    3181   9.9000    321.313131\n",
       "368  連江縣  莒光鄉    1471   4.7000    312.978723\n",
       "369  連江縣  東引鄉    1534   3.8000    403.684211\n",
       "\n",
       "[370 rows x 5 columns]"
      ]
     },
     "execution_count": 3,
     "metadata": {},
     "output_type": "execute_result"
    }
   ],
   "source": [
    "infos = []\n",
    "city1 = ''\n",
    "for i, row in df.iterrows():\n",
    "    try:\n",
    "        name = row['區　域　別'].strip()\n",
    "        people_cnt = int(row['年底人口數'])\n",
    "        ground_area = float(row['土地面積'])\n",
    "        population_density = float(row['人口密度'])\n",
    "    except:\n",
    "        print('skiping', name)\n",
    "        continue\n",
    "    if name.endswith('市') or name.endswith('縣'):\n",
    "        if '  ' in name:\n",
    "            city1 = name.strip().replace(' ', '').replace('臺北市', '台北市').replace('臺中市', '台中市').replace('臺南市', '台南市')\n",
    "            continue\n",
    "    if city1 == '':\n",
    "        continue\n",
    "    infos.append({\n",
    "        '縣市': city1,\n",
    "        '鄉鎮市區': name.replace(' ', '').replace('　', ''),\n",
    "        '行政區人口數': people_cnt,\n",
    "        '行政區土地面積': ground_area,\n",
    "        '行政區人口密度': population_density,\n",
    "    })\n",
    "df_population = pd.DataFrame(infos)\n",
    "df_population"
   ]
  },
  {
   "cell_type": "code",
   "execution_count": 4,
   "id": "16f0cb6c-510b-424b-b060-aafb8bc3ee73",
   "metadata": {
    "execution": {
     "iopub.execute_input": "2023-11-19T18:48:57.399619Z",
     "iopub.status.busy": "2023-11-19T18:48:57.399179Z",
     "iopub.status.idle": "2023-11-19T18:48:57.404567Z",
     "shell.execute_reply": "2023-11-19T18:48:57.403625Z"
    },
    "scrolled": true
   },
   "outputs": [
    {
     "data": {
      "text/plain": [
       "['新北市',\n",
       " '台北市',\n",
       " '桃園市',\n",
       " '台中市',\n",
       " '台南市',\n",
       " '高雄市',\n",
       " '宜蘭縣',\n",
       " '新竹縣',\n",
       " '苗栗縣',\n",
       " '彰化縣',\n",
       " '南投縣',\n",
       " '雲林縣',\n",
       " '嘉義縣',\n",
       " '屏東縣',\n",
       " '臺東縣',\n",
       " '花蓮縣',\n",
       " '澎湖縣',\n",
       " '基隆市',\n",
       " '新竹市',\n",
       " '嘉義市',\n",
       " '金門縣',\n",
       " '連江縣']"
      ]
     },
     "execution_count": 4,
     "metadata": {},
     "output_type": "execute_result"
    }
   ],
   "source": [
    "df_population['縣市'].unique().tolist()"
   ]
  },
  {
   "cell_type": "code",
   "execution_count": 5,
   "id": "99c34dbb-52b2-454b-9034-b58c9d47bb92",
   "metadata": {
    "execution": {
     "iopub.execute_input": "2023-11-19T18:48:57.406662Z",
     "iopub.status.busy": "2023-11-19T18:48:57.406516Z",
     "iopub.status.idle": "2023-11-19T18:48:57.410596Z",
     "shell.execute_reply": "2023-11-19T18:48:57.409986Z"
    }
   },
   "outputs": [
    {
     "data": {
      "text/plain": [
       "22"
      ]
     },
     "execution_count": 5,
     "metadata": {},
     "output_type": "execute_result"
    }
   ],
   "source": [
    "df_population['縣市'].nunique()"
   ]
  },
  {
   "cell_type": "code",
   "execution_count": 6,
   "id": "3afe3ad2-7784-4b7a-bd1d-5ee708081d10",
   "metadata": {
    "execution": {
     "iopub.execute_input": "2023-11-19T18:48:57.412324Z",
     "iopub.status.busy": "2023-11-19T18:48:57.412018Z",
     "iopub.status.idle": "2023-11-19T18:48:57.416110Z",
     "shell.execute_reply": "2023-11-19T18:48:57.415422Z"
    }
   },
   "outputs": [],
   "source": [
    "use_counties = ['台北市', '高雄市', '新北市', '桃園市', '台中市', '台南市', '苗栗縣', '新竹縣', '基隆市',\n",
    "       '屏東縣', '新竹市', '宜蘭縣', '花蓮縣', '嘉義市', '金門縣', '嘉義縣', '彰化縣', '雲林縣']\n",
    "df_population = df_population[df_population['縣市'].isin(use_counties)].reset_index(drop=True)"
   ]
  },
  {
   "cell_type": "code",
   "execution_count": 7,
   "id": "a52fc928-510c-4d1b-a2e8-59241229e1d1",
   "metadata": {
    "execution": {
     "iopub.execute_input": "2023-11-19T18:48:57.417683Z",
     "iopub.status.busy": "2023-11-19T18:48:57.417546Z",
     "iopub.status.idle": "2023-11-19T18:48:57.421385Z",
     "shell.execute_reply": "2023-11-19T18:48:57.420830Z"
    }
   },
   "outputs": [
    {
     "data": {
      "text/plain": [
       "set()"
      ]
     },
     "execution_count": 7,
     "metadata": {},
     "output_type": "execute_result"
    }
   ],
   "source": [
    "set(use_counties) - set(df_population['縣市'].unique().tolist())"
   ]
  },
  {
   "cell_type": "code",
   "execution_count": 8,
   "id": "c924c050-6bd9-4413-bd9b-548b787039f8",
   "metadata": {
    "execution": {
     "iopub.execute_input": "2023-11-19T18:48:57.422849Z",
     "iopub.status.busy": "2023-11-19T18:48:57.422709Z",
     "iopub.status.idle": "2023-11-19T18:48:57.432867Z",
     "shell.execute_reply": "2023-11-19T18:48:57.432290Z"
    }
   },
   "outputs": [],
   "source": [
    "df_population = df_population.drop_duplicates(subset=['縣市', '鄉鎮市區'], keep='first').reset_index(drop=True)\n",
    "df_population.to_csv('../外部資料集/population_info.csv', index=False, encoding='utf-8')"
   ]
  }
 ],
 "metadata": {
  "kernelspec": {
   "display_name": "Python 3 (ipykernel)",
   "language": "python",
   "name": "python3"
  },
  "language_info": {
   "codemirror_mode": {
    "name": "ipython",
    "version": 3
   },
   "file_extension": ".py",
   "mimetype": "text/x-python",
   "name": "python",
   "nbconvert_exporter": "python",
   "pygments_lexer": "ipython3",
   "version": "3.11.5"
  }
 },
 "nbformat": 4,
 "nbformat_minor": 5
}
