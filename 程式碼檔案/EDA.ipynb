{
 "cells": [
  {
   "cell_type": "code",
   "execution_count": null,
   "id": "03680982-c2a7-4838-a0d4-a7e5932083c9",
   "metadata": {},
   "outputs": [],
   "source": [
    "import glob\n",
    "import pandas as pd\n",
    "import matplotlib.pyplot as plt\n",
    "\n",
    "import pyproj\n",
    "from tqdm import tqdm\n",
    "import folium\n",
    "import json\n",
    "import glob\n",
    "import pandas as pd\n",
    "import matplotlib.pyplot as plt\n",
    "from sklearn.model_selection import train_test_split\n",
    "from sklearn.model_selection import KFold\n",
    "from sklearn.preprocessing import LabelEncoder\n",
    "import numpy as np\n",
    "import random\n",
    "import haversine as hs\n",
    "from multiprocessing import Pool\n",
    "import lightgbm as lgb\n",
    "from catboost import CatBoostRegressor\n",
    "import xgboost as xgb\n",
    "import datetime\n",
    "from sklearn.linear_model import LinearRegression\n",
    "from sklearn.linear_model import Lasso\n",
    "from sklearn.svm import SVR\n",
    "from sklearn import neighbors\n",
    "from sklearn.linear_model import ElasticNet\n",
    "import warnings\n",
    "\n",
    "warnings.simplefilter(action='ignore', category=FutureWarning)\n",
    "\n",
    "plt.rcParams['font.sans-serif'] = ['Microsoft JhengHei'] # 修改中文字體\n",
    "plt.rcParams['axes.unicode_minus'] = False # 顯示負號\n",
    "pd.set_option('display.max_columns', None)"
   ]
  },
  {
   "cell_type": "code",
   "execution_count": null,
   "id": "43d7d6e2-357e-40ff-867d-651b3d4f1c68",
   "metadata": {},
   "outputs": [],
   "source": [
    "df_train = pd.read_csv('../官方資料集/training_data.csv')\n",
    "df_valid = pd.read_csv('../官方資料集/public_dataset.csv')\n",
    "df_test = pd.read_csv('../官方資料集/private_dataset.csv')"
   ]
  },
  {
   "cell_type": "code",
   "execution_count": null,
   "id": "79898706-fe9c-4314-9c06-33e0cd1918f4",
   "metadata": {},
   "outputs": [],
   "source": [
    "df_external_gov_data = pd.read_csv('../外部資料集/實價登錄/external_gov_data.csv')"
   ]
  },
  {
   "cell_type": "code",
   "execution_count": null,
   "id": "7c33c02d-9551-4969-a306-ecde104d44f9",
   "metadata": {},
   "outputs": [],
   "source": [
    "by = ['縣市', '鄉鎮市區', '路名', '主要用途', '建物型態']\n",
    "df_train['key'] = df_train[by].apply(lambda x: '_'.join([str(v) for v in x]), axis=1)\n",
    "df_train['key']"
   ]
  },
  {
   "cell_type": "code",
   "execution_count": null,
   "id": "eda3b3bc-1c32-4f95-ad84-4e37b35ce4c4",
   "metadata": {},
   "outputs": [],
   "source": [
    "# external datas \n",
    "externalkey2subdf = {}\n",
    "key_col = 'key'\n",
    "_new_col_name = ''\n",
    "\n",
    "def get_external_same_building_feature(row):\n",
    "    global _new_col_name\n",
    "    if row[key_col] not in externalkey2subdf:\n",
    "        return {}\n",
    "    subdf = externalkey2subdf[row[key_col]]\n",
    "    if len(subdf) == 0:\n",
    "        return {}\n",
    "    else:\n",
    "        return {\n",
    "            'ID': row['ID'],\n",
    "            f'{_new_col_name}_mean': subdf['單價'].mean(),\n",
    "            f'{_new_col_name}_std': subdf['單價'].std(),\n",
    "            f'{_new_col_name}_max': subdf['單價'].max(),\n",
    "            f'{_new_col_name}_min': subdf['單價'].min(),\n",
    "            f'{_new_col_name}_max_min_ratio': (subdf['單價'].max()-subdf['單價'].min()) / subdf['單價'].mean(),\n",
    "        }\n",
    "        \n",
    "def mapping_external_gov_data_price(\n",
    "    df_train, \n",
    "    df_valid, \n",
    "    df_external_gov_data, \n",
    "    by = ['縣市', '鄉鎮市區', '路名', '主要用途', '建物型態'], \n",
    "    new_col_name = 'externalkey_sameroad_price'):\n",
    "    global _new_col_name\n",
    "    _new_col_name = new_col_name\n",
    "    \n",
    "    df_train[key_col] = df_train[by].apply(lambda x: '_'.join([str(v) for v in x]), axis=1)\n",
    "    df_valid[key_col] = df_valid[by].apply(lambda x: '_'.join([str(v) for v in x]), axis=1)\n",
    "    df_external_gov_data[key_col] = df_external_gov_data[by].apply(lambda x: '_'.join([str(v) for v in x]), axis=1)\n",
    "    \n",
    "    le = LabelEncoder()\n",
    "    le.fit(df_train[key_col].values.tolist() + df_valid[key_col].values.tolist() + df_external_gov_data[key_col].values.tolist())\n",
    "    df_train[key_col] = le.transform(df_train[key_col].values.tolist())\n",
    "    df_valid[key_col] = le.transform(df_valid[key_col].values.tolist())\n",
    "    df_external_gov_data[key_col] = le.transform(df_external_gov_data[key_col].values.tolist())\n",
    "\n",
    "\n",
    "    \n",
    "    global externalkey2subdf\n",
    "    externalkey2subdf = {}\n",
    "    for key, subdf in df_external_gov_data.groupby(key_col):\n",
    "        externalkey2subdf[key] = subdf\n",
    "    \n",
    "    with Pool(22) as pool:\n",
    "        features = list(tqdm(pool.imap(get_external_same_building_feature, df_train.to_dict('records')), total=len(df_train)))\n",
    "    df_train_features = pd.DataFrame(features)\n",
    "    df_train = df_train.merge(df_train_features, how='left', on='ID')\n",
    "    \n",
    "    with Pool(22) as pool:\n",
    "        features = list(tqdm(pool.imap(get_external_same_building_feature, df_valid.to_dict('records')), total=len(df_valid)))\n",
    "    df_valid_features = pd.DataFrame(features)\n",
    "    df_valid = df_valid.merge(df_valid_features, how='left', on='ID')\n",
    "    return df_train, df_valid"
   ]
  },
  {
   "cell_type": "code",
   "execution_count": null,
   "id": "dc4663da-ed95-43f2-b4ab-0b8a8dd2cabb",
   "metadata": {},
   "outputs": [],
   "source": [
    "df_train, df_valid = mapping_external_gov_data_price(\n",
    "    df_train, \n",
    "    df_valid, \n",
    "    df_external_gov_data, \n",
    "    by = ['縣市', '鄉鎮市區', '路名'], \n",
    "    new_col_name = 'external_key1_price'\n",
    ")\n",
    "na_cnt = sum(df_train['external_key1_price_mean'].isna())\n",
    "mapping_rate = 1 - na_cnt / len(df_train)\n",
    "print(f'mapping_rate = {round(mapping_rate*100, 3)}%')\n",
    "df_train[['單價', 'external_key1_price_mean']].corr()"
   ]
  },
  {
   "cell_type": "code",
   "execution_count": null,
   "id": "17f8fe4c-3326-499d-8449-519944c19230",
   "metadata": {},
   "outputs": [],
   "source": [
    "df_train, df_valid = mapping_external_gov_data_price(\n",
    "    df_train, \n",
    "    df_valid, \n",
    "    df_external_gov_data, \n",
    "    by = ['縣市', '鄉鎮市區', '路名', '主要用途', '建物型態'], \n",
    "    new_col_name = 'external_key2_price'\n",
    ")\n",
    "na_cnt = sum(df_train['external_key2_price_mean'].isna())\n",
    "mapping_rate = 1 - na_cnt / len(df_train)\n",
    "print(f'mapping_rate = {round(mapping_rate*100, 3)}%')\n",
    "df_train[['單價', 'external_key2_price_mean']].corr()"
   ]
  },
  {
   "cell_type": "code",
   "execution_count": null,
   "id": "ef6ad4f0-8a3b-4837-9bc7-6ecdfca5d885",
   "metadata": {},
   "outputs": [],
   "source": [
    "df_train, df_valid = mapping_external_gov_data_price(\n",
    "    df_train, \n",
    "    df_valid, \n",
    "    df_external_gov_data, \n",
    "    by = ['縣市', '鄉鎮市區', '路名', '主要用途', '建物型態', '總樓層數'], \n",
    "    new_col_name = 'external_key3_price'\n",
    ")\n",
    "na_cnt = sum(df_train['external_key3_price_mean'].isna())\n",
    "mapping_rate = 1 - na_cnt / len(df_train)\n",
    "print(f'mapping_rate = {round(mapping_rate*100, 3)}%')\n",
    "df_train[['單價', 'external_key3_price_mean']].corr()"
   ]
  },
  {
   "cell_type": "code",
   "execution_count": null,
   "id": "6882d0ed-fc7d-470a-b7c7-5291e9780e9c",
   "metadata": {},
   "outputs": [],
   "source": [
    "df_train, df_valid = mapping_external_gov_data_price(\n",
    "    df_train, \n",
    "    df_valid, \n",
    "    df_external_gov_data, \n",
    "    by = ['縣市', '鄉鎮市區', '路名', '主要用途', '建物型態', '總樓層數', '移轉層次'], \n",
    "    new_col_name = 'external_key4_price'\n",
    ")\n",
    "na_cnt = sum(df_train['external_key4_price_mean'].isna())\n",
    "mapping_rate = 1 - na_cnt / len(df_train)\n",
    "print(f'mapping_rate = {round(mapping_rate*100, 3)}%')\n",
    "df_train[['單價', 'external_key4_price_mean']].corr()"
   ]
  },
  {
   "cell_type": "code",
   "execution_count": null,
   "id": "3aae046f-f198-4d78-840a-e584727921fc",
   "metadata": {},
   "outputs": [],
   "source": [
    "df_train['附屬建物面積'].value_counts().reset_index().head()"
   ]
  },
  {
   "cell_type": "code",
   "execution_count": null,
   "id": "7b46a2bb-cdc6-4e3b-9d38-156a15e32e1f",
   "metadata": {},
   "outputs": [],
   "source": [
    "df_valid['附屬建物面積'].value_counts().reset_index().head()"
   ]
  },
  {
   "cell_type": "code",
   "execution_count": null,
   "id": "a7966c49-d2cf-4912-b29a-d4035e2ff38b",
   "metadata": {},
   "outputs": [],
   "source": [
    "df_test['附屬建物面積'].value_counts().reset_index().head()"
   ]
  },
  {
   "cell_type": "code",
   "execution_count": null,
   "id": "57d71ea6-e290-4183-9840-774cce044ff7",
   "metadata": {},
   "outputs": [],
   "source": [
    "df_external_gov_data['附屬建物面積'].value_counts().reset_index().head()"
   ]
  },
  {
   "cell_type": "code",
   "execution_count": null,
   "id": "d9f554d9-3a47-4dce-b2a8-b199dbf9b014",
   "metadata": {},
   "outputs": [],
   "source": [
    "df_extra = pd.read_csv('../官方資料集/external_data/國小基本資料.csv')\n",
    "df_extra.head(1)"
   ]
  },
  {
   "cell_type": "code",
   "execution_count": null,
   "id": "a633b5e3-196b-4d1d-80f9-68b5f920cac0",
   "metadata": {},
   "outputs": [],
   "source": [
    "df_extra = pd.read_csv('../官方資料集/external_data/國中基本資料.csv')\n",
    "df_extra.head(1)"
   ]
  },
  {
   "cell_type": "code",
   "execution_count": null,
   "id": "b6b16ed8-3723-44b7-8a48-f0eb32cb7f79",
   "metadata": {},
   "outputs": [],
   "source": [
    "df_extra = pd.read_csv('../官方資料集/external_data/大學基本資料.csv')\n",
    "df_extra.head(1)"
   ]
  },
  {
   "cell_type": "code",
   "execution_count": null,
   "id": "6fcbde55-7ab1-4202-9cda-eb6a9c353727",
   "metadata": {},
   "outputs": [],
   "source": [
    "pd.set_option('display.max_columns', None)\n",
    "df_dataset = pd.read_csv('../官方資料集/public_dataset.csv')\n",
    "df_dataset.sample()"
   ]
  },
  {
   "cell_type": "code",
   "execution_count": null,
   "id": "833b943e-483c-41aa-b8f7-2d4c1d154c5f",
   "metadata": {},
   "outputs": [],
   "source": [
    "df_train = pd.read_csv('../官方資料集/training_data.csv')"
   ]
  },
  {
   "cell_type": "code",
   "execution_count": null,
   "id": "b714c422-7c38-4d8e-9170-f658621b902d",
   "metadata": {},
   "outputs": [],
   "source": [
    "df_train['屋齡'].describe()"
   ]
  },
  {
   "cell_type": "code",
   "execution_count": null,
   "id": "80f65dcc-c02d-46b7-a1e2-1d7a7b52a802",
   "metadata": {},
   "outputs": [],
   "source": [
    "df_train.sample()"
   ]
  },
  {
   "cell_type": "code",
   "execution_count": null,
   "id": "e94d7c2a-8652-4a00-a9df-4aa7d915d5e2",
   "metadata": {},
   "outputs": [],
   "source": [
    "len(df_train.groupby(['縣市', '鄉鎮市區']))"
   ]
  },
  {
   "cell_type": "code",
   "execution_count": null,
   "id": "9f3b09dd-6920-4e79-ba82-f7078db5d9a9",
   "metadata": {},
   "outputs": [],
   "source": [
    "df_train['主要用途'].unique()"
   ]
  },
  {
   "cell_type": "code",
   "execution_count": null,
   "id": "c6fc642a-422d-4f02-88a2-bec14e004c87",
   "metadata": {},
   "outputs": [],
   "source": [
    "df_train['主要用途'].value_counts()"
   ]
  },
  {
   "cell_type": "code",
   "execution_count": null,
   "id": "7396e468-c9e7-4432-8427-5acaf0c76e6f",
   "metadata": {},
   "outputs": [],
   "source": [
    "df_train.query('主要用途 == \"住家用\"')['單價'].describe()"
   ]
  },
  {
   "cell_type": "code",
   "execution_count": null,
   "id": "546b2277-267d-4725-8b3b-00cb098c88f3",
   "metadata": {},
   "outputs": [],
   "source": [
    "df_train.query('主要用途 == \"集合住宅\"')['單價'].describe()"
   ]
  },
  {
   "cell_type": "code",
   "execution_count": null,
   "id": "de76a129-0883-43ec-920c-caccbf5fe508",
   "metadata": {},
   "outputs": [],
   "source": [
    "df_dataset['路名'].apply(lambda x: x[-1]).value_counts()"
   ]
  },
  {
   "cell_type": "code",
   "execution_count": null,
   "id": "d3d935a0-6d16-48e8-ac2f-91a590e7f1d8",
   "metadata": {},
   "outputs": [],
   "source": [
    "df_dataset['縣市'].unique()"
   ]
  },
  {
   "cell_type": "code",
   "execution_count": null,
   "id": "b6b346ce-1c4b-41b2-812b-a687d703fb58",
   "metadata": {},
   "outputs": [],
   "source": [
    "df_dataset['縣市'].value_counts()"
   ]
  },
  {
   "cell_type": "code",
   "execution_count": null,
   "id": "838cb78a-bb1b-4fe7-aec5-8f41499338fe",
   "metadata": {},
   "outputs": [],
   "source": [
    "df_dataset['縣市'].nunique()"
   ]
  },
  {
   "cell_type": "code",
   "execution_count": null,
   "id": "e9e2576d-9315-45e8-8402-10b9ca923a06",
   "metadata": {},
   "outputs": [],
   "source": [
    "df_train = pd.read_csv('../官方資料集/training_data.csv')\n",
    "for col in df_train.columns:\n",
    "    print(df_train[col].describe())\n",
    "    print()"
   ]
  },
  {
   "cell_type": "code",
   "execution_count": null,
   "id": "2b96f9c1-401e-4a2a-a143-dcb4fddcf5a8",
   "metadata": {},
   "outputs": [],
   "source": [
    "df_train['車位面積'].value_counts()"
   ]
  },
  {
   "cell_type": "code",
   "execution_count": null,
   "id": "2e3e387f-8136-4a33-a66d-515f07eec104",
   "metadata": {},
   "outputs": [],
   "source": [
    "df_train.columns"
   ]
  },
  {
   "cell_type": "code",
   "execution_count": null,
   "id": "17737a2e-0d71-44bd-9cbf-4b37bb29cf0d",
   "metadata": {},
   "outputs": [],
   "source": [
    "df_train['縣市'].value_counts()"
   ]
  },
  {
   "cell_type": "code",
   "execution_count": null,
   "id": "db983a5e-db53-4640-86dc-d8a5236d4469",
   "metadata": {},
   "outputs": [],
   "source": [
    "df_train['縣市'].unique()"
   ]
  },
  {
   "cell_type": "code",
   "execution_count": null,
   "id": "ecc95cbf-e2cd-4e07-9bc5-2435bd4c1cd7",
   "metadata": {},
   "outputs": [],
   "source": [
    "df_train['主要建材'].value_counts()"
   ]
  },
  {
   "cell_type": "code",
   "execution_count": null,
   "id": "406686d8-47dc-442b-9c50-e29bd64fcd33",
   "metadata": {},
   "outputs": [],
   "source": [
    "df_train['建物型態'].value_counts()"
   ]
  },
  {
   "cell_type": "code",
   "execution_count": null,
   "id": "1c63a746-24bf-4ddd-bf2f-c285cad09390",
   "metadata": {},
   "outputs": [],
   "source": [
    "df_train['備註'].value_counts().head(10)"
   ]
  },
  {
   "cell_type": "code",
   "execution_count": null,
   "id": "9782a4e9-535f-4b46-81cd-02e6cf00d0ef",
   "metadata": {},
   "outputs": [],
   "source": [
    "df_train['屋齡'].value_counts().head(10)"
   ]
  },
  {
   "cell_type": "code",
   "execution_count": null,
   "id": "1d4294b6-cbea-45f3-be9d-a5c45747a907",
   "metadata": {},
   "outputs": [],
   "source": [
    "import pyproj\n",
    "twd97 = pyproj.Proj(init='epsg:3826')  # TWD97\n",
    "wgs84 = pyproj.Proj(init='epsg:4326')  # WGS84\n",
    "\n",
    "df_train = pd.read_csv('../官方資料集/training_data.csv')"
   ]
  },
  {
   "cell_type": "code",
   "execution_count": null,
   "id": "cedd08f1-883d-4756-a073-2e2603f75867",
   "metadata": {},
   "outputs": [],
   "source": [
    "def get_coordinate(row):\n",
    "    lon, lat = pyproj.transform(twd97, wgs84, row['橫坐標'], row['縱坐標'])\n",
    "    return {\n",
    "        'ID': row['ID'],\n",
    "        'Lon': lon,\n",
    "        'Lat': lat\n",
    "    }\n",
    "\n",
    "with Pool(22) as pool:\n",
    "    features = list(tqdm(pool.imap(get_coordinate, df_train.to_dict('records')), total=len(df_train)))\n",
    "df_train_features = pd.DataFrame(features).fillna(-999999)\n",
    "df_train = df_train.merge(df_train_features, how='left', on='ID')"
   ]
  },
  {
   "cell_type": "code",
   "execution_count": null,
   "id": "26d0c4e1-02d9-422f-b0ec-4c43e2590725",
   "metadata": {},
   "outputs": [],
   "source": [
    "import folium\n",
    "import json\n",
    "m = folium.Map(location=(df_train['Lat'].values[0], df_train['Lon'].values[0]), zoom_start=17)\n",
    "for i, row in tqdm(df_train.iterrows()):\n",
    "    folium.Marker(\n",
    "        location=[row['Lat'], row['Lon']],\n",
    "        popup=row.to_dict(),\n",
    "        icon=folium.Icon(icon=\"info\"),\n",
    "    ).add_to(m)\n",
    "    if i > 100:\n",
    "        break\n",
    "m"
   ]
  }
 ],
 "metadata": {
  "kernelspec": {
   "display_name": "Python 3 (ipykernel)",
   "language": "python",
   "name": "python3"
  },
  "language_info": {
   "codemirror_mode": {
    "name": "ipython",
    "version": 3
   },
   "file_extension": ".py",
   "mimetype": "text/x-python",
   "name": "python",
   "nbconvert_exporter": "python",
   "pygments_lexer": "ipython3",
   "version": "3.11.5"
  }
 },
 "nbformat": 4,
 "nbformat_minor": 5
}
