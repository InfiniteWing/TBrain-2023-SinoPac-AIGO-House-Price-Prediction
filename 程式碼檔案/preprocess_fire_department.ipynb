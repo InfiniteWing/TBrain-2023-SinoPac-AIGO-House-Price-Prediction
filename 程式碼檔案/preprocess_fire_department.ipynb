{
 "cells": [
  {
   "cell_type": "code",
   "execution_count": 1,
   "id": "032d5851-c422-4765-95a7-94e7c1488bbd",
   "metadata": {
    "execution": {
     "iopub.execute_input": "2023-11-19T18:48:35.982712Z",
     "iopub.status.busy": "2023-11-19T18:48:35.981879Z",
     "iopub.status.idle": "2023-11-19T18:48:36.181235Z",
     "shell.execute_reply": "2023-11-19T18:48:36.180394Z"
    }
   },
   "outputs": [],
   "source": [
    "import glob\n",
    "import os\n",
    "import pandas as pd\n",
    "import numpy as np\n",
    "import warnings\n",
    "\n",
    "warnings.simplefilter(action='ignore', category=FutureWarning)"
   ]
  },
  {
   "cell_type": "code",
   "execution_count": 2,
   "id": "ec15e80c-ec65-41b1-a5ab-335711d7722b",
   "metadata": {
    "execution": {
     "iopub.execute_input": "2023-11-19T18:48:36.183687Z",
     "iopub.status.busy": "2023-11-19T18:48:36.183416Z",
     "iopub.status.idle": "2023-11-19T18:48:36.204991Z",
     "shell.execute_reply": "2023-11-19T18:48:36.204040Z"
    }
   },
   "outputs": [],
   "source": [
    "df = pd.read_csv('../外部資料集/fire_department.csv', encoding='BIG5')\n",
    "df.rename(columns={\n",
    "    '消防隊名稱': 'name',\n",
    "    '地址': 'address',\n",
    "    'Y座標_TWD97TM121': 'lat',\n",
    "    'X座標_TWD97TM121': 'lon',\n",
    "}, inplace=True)\n",
    "\n",
    "use_cols = ['name', 'address', 'lat', 'lon']\n",
    "df[use_cols].to_csv('../官方資料集/external_data/fire_department.csv', index=False, encoding='utf-8')"
   ]
  },
  {
   "cell_type": "code",
   "execution_count": 3,
   "id": "7b483655-6151-4edb-90b0-00474c0068bb",
   "metadata": {
    "execution": {
     "iopub.execute_input": "2023-11-19T18:48:36.206957Z",
     "iopub.status.busy": "2023-11-19T18:48:36.206602Z",
     "iopub.status.idle": "2023-11-19T18:48:36.218711Z",
     "shell.execute_reply": "2023-11-19T18:48:36.217956Z"
    }
   },
   "outputs": [
    {
     "data": {
      "text/html": [
       "<div>\n",
       "<style scoped>\n",
       "    .dataframe tbody tr th:only-of-type {\n",
       "        vertical-align: middle;\n",
       "    }\n",
       "\n",
       "    .dataframe tbody tr th {\n",
       "        vertical-align: top;\n",
       "    }\n",
       "\n",
       "    .dataframe thead th {\n",
       "        text-align: right;\n",
       "    }\n",
       "</style>\n",
       "<table border=\"1\" class=\"dataframe\">\n",
       "  <thead>\n",
       "    <tr style=\"text-align: right;\">\n",
       "      <th></th>\n",
       "      <th>lat</th>\n",
       "      <th>lon</th>\n",
       "    </tr>\n",
       "  </thead>\n",
       "  <tbody>\n",
       "    <tr>\n",
       "      <th>count</th>\n",
       "      <td>770.000000</td>\n",
       "      <td>770.000000</td>\n",
       "    </tr>\n",
       "    <tr>\n",
       "      <th>mean</th>\n",
       "      <td>23.840359</td>\n",
       "      <td>119.909598</td>\n",
       "    </tr>\n",
       "    <tr>\n",
       "      <th>std</th>\n",
       "      <td>2.304594</td>\n",
       "      <td>10.650168</td>\n",
       "    </tr>\n",
       "    <tr>\n",
       "      <th>min</th>\n",
       "      <td>0.000000</td>\n",
       "      <td>0.000000</td>\n",
       "    </tr>\n",
       "    <tr>\n",
       "      <th>25%</th>\n",
       "      <td>23.170925</td>\n",
       "      <td>120.431057</td>\n",
       "    </tr>\n",
       "    <tr>\n",
       "      <th>50%</th>\n",
       "      <td>24.090440</td>\n",
       "      <td>120.732913</td>\n",
       "    </tr>\n",
       "    <tr>\n",
       "      <th>75%</th>\n",
       "      <td>24.962897</td>\n",
       "      <td>121.427391</td>\n",
       "    </tr>\n",
       "    <tr>\n",
       "      <th>max</th>\n",
       "      <td>26.368358</td>\n",
       "      <td>121.909888</td>\n",
       "    </tr>\n",
       "  </tbody>\n",
       "</table>\n",
       "</div>"
      ],
      "text/plain": [
       "              lat         lon\n",
       "count  770.000000  770.000000\n",
       "mean    23.840359  119.909598\n",
       "std      2.304594   10.650168\n",
       "min      0.000000    0.000000\n",
       "25%     23.170925  120.431057\n",
       "50%     24.090440  120.732913\n",
       "75%     24.962897  121.427391\n",
       "max     26.368358  121.909888"
      ]
     },
     "execution_count": 3,
     "metadata": {},
     "output_type": "execute_result"
    }
   ],
   "source": [
    "df[use_cols].describe()"
   ]
  },
  {
   "cell_type": "code",
   "execution_count": null,
   "id": "58cf7287-0b6b-404f-b3f6-90e422c2bd28",
   "metadata": {},
   "outputs": [],
   "source": []
  }
 ],
 "metadata": {
  "kernelspec": {
   "display_name": "Python 3 (ipykernel)",
   "language": "python",
   "name": "python3"
  },
  "language_info": {
   "codemirror_mode": {
    "name": "ipython",
    "version": 3
   },
   "file_extension": ".py",
   "mimetype": "text/x-python",
   "name": "python",
   "nbconvert_exporter": "python",
   "pygments_lexer": "ipython3",
   "version": "3.11.5"
  }
 },
 "nbformat": 4,
 "nbformat_minor": 5
}
